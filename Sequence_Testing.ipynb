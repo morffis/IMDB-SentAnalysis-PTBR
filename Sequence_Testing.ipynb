{
 "cells": [
  {
   "cell_type": "code",
   "execution_count": 1,
   "metadata": {},
   "outputs": [
    {
     "name": "stderr",
     "output_type": "stream",
     "text": [
      "Using TensorFlow backend.\n"
     ]
    }
   ],
   "source": [
    "#DATA MANIPULATION\n",
    "import pandas as pd\n",
    "import numpy as np\n",
    "\n",
    "#EMBEDDING AND PREPROCESSING\n",
    "from gensim.models import KeyedVectors\n",
    "import re\n",
    "import nltk\n",
    "import gensim\n",
    "import multiprocessing\n",
    "import spacy\n",
    "from sklearn.preprocessing import LabelBinarizer\n",
    "\n",
    "#TIME CONTROLS\n",
    "import time\n",
    "\n",
    "#PLOT\n",
    "import matplotlib.pyplot as plt\n",
    "plt.style.use(\"ggplot\")\n",
    "%matplotlib inline\n",
    "\n",
    "#TENSORFLOW AND KERAS\n",
    "import tensorflow as tf\n",
    "from tensorflow import keras\n",
    "from keras.preprocessing.sequence import pad_sequences\n",
    "from tensorflow.keras.layers import Dense, Input, LSTM, Embedding, Dropout,SpatialDropout1D, Bidirectional, GlobalAveragePooling1D, MaxPooling1D, Flatten\n",
    "from tensorflow.keras.models import Model, Sequential\n",
    "from tensorflow.keras.optimizers import Adam\n",
    "from tensorflow.keras.layers import BatchNormalization\n",
    "from tensorflow.keras.preprocessing.text import Tokenizer\n",
    "\n",
    "import random"
   ]
  },
  {
   "cell_type": "code",
   "execution_count": 2,
   "metadata": {},
   "outputs": [],
   "source": [
    "def load_embedding(filename, encoding='utf-8'):\n",
    "    # load embedding into memory, skip first line\n",
    "    file = open(filename,'r',encoding=encoding)\n",
    "    lines = file.readlines()[1:]\n",
    "    file.close()\n",
    "    # create a map of words to vectors\n",
    "    embedding = dict()\n",
    "    for line in lines:\n",
    "        parts = line.split()\n",
    "        # key is string word, value is numpy array for vector\n",
    "        try:\n",
    "            embedding[parts[0]] = np.asarray(parts[1:], dtype='float32')\n",
    "        except:\n",
    "            pass\n",
    "    return embedding"
   ]
  },
  {
   "cell_type": "code",
   "execution_count": 3,
   "metadata": {},
   "outputs": [],
   "source": [
    "def get_weight_matrix(embedding, vocab, seq_len):\n",
    "    # total vocabulary size plus 0 for unknown words\n",
    "    vocab_size = len(vocab) + 1\n",
    "    # define weight matrix dimensions with all 0\n",
    "    weight_matrix = np.zeros((vocab_size, seq_len))\n",
    "    # step vocab, store vectors using the Tokenizer's integer mapping\n",
    "    for word, i in vocab.items():\n",
    "        weight_matrix[i] = embedding.get(word)\n",
    "    return weight_matrix"
   ]
  },
  {
   "cell_type": "code",
   "execution_count": 4,
   "metadata": {},
   "outputs": [],
   "source": [
    "def cleaning(doc):\n",
    "    txt = [token.text for token in doc]\n",
    "    if len(txt) > 2:        \n",
    "        return re.sub(' +', ' ', ' '.join(txt)).strip()"
   ]
  },
  {
   "cell_type": "code",
   "execution_count": 5,
   "metadata": {},
   "outputs": [],
   "source": [
    "def preprocess_string(string, word_vectors):\n",
    "    unk_string = '<unk>'\n",
    "    counter = 0\n",
    "    string = re.sub('[().\\\\/\\-_\\+\":“0-9]', ' ', str(string)).lower()\n",
    "    for word in string.split():\n",
    "        try:\n",
    "            word_vectors[word]\n",
    "            string_to_attatch = word\n",
    "        except:\n",
    "            string_to_attatch = unk_string\n",
    "        \n",
    "        if counter:\n",
    "            string = string +' '+ string_to_attatch\n",
    "        else:\n",
    "            string = string_to_attatch\n",
    "            counter = 1\n",
    "    \n",
    "    return string"
   ]
  },
  {
   "cell_type": "code",
   "execution_count": 6,
   "metadata": {},
   "outputs": [],
   "source": [
    "def pad_sequence(string, tokenizer):\n",
    "    encoded_string = tokenizer.texts_to_sequences(string)\n",
    "    padded_enconded = pad_sequences(encoded_string, maxlen=max_length, padding='post')\n",
    "    return padded_enconded"
   ]
  },
  {
   "cell_type": "code",
   "execution_count": 7,
   "metadata": {},
   "outputs": [],
   "source": [
    "def preprocess_to_predict(string, word_vectors, tokenizer):\n",
    "    string = preprocess_string(string, word_vectors)    \n",
    "    padded_sequence = pad_sequence(string, tokenizer)\n",
    "    \n",
    "    return padded_sequence"
   ]
  },
  {
   "cell_type": "code",
   "execution_count": 8,
   "metadata": {},
   "outputs": [
    {
     "data": {
      "text/plain": [
       "['Luminarias',\n",
       " 'Transformadores',\n",
       " 'Caixas',\n",
       " 'CDs e DVDs',\n",
       " 'Celulares',\n",
       " 'Televisores',\n",
       " 'Carregadores',\n",
       " 'Tablets',\n",
       " 'Baterias',\n",
       " 'Notebooks',\n",
       " 'Imóveis',\n",
       " 'Portas',\n",
       " 'Cadeiras',\n",
       " 'Servidores',\n",
       " 'Armários',\n",
       " 'Monitores',\n",
       " 'Ar condicionado',\n",
       " 'Mesas',\n",
       " 'Gaveteiros',\n",
       " 'Vasos',\n",
       " 'Sofás',\n",
       " 'Microondas',\n",
       " 'Computadores',\n",
       " 'Projetores',\n",
       " 'Gravadores',\n",
       " 'Impressoras',\n",
       " 'Camas',\n",
       " 'Fornos',\n",
       " 'Jogos',\n",
       " 'Pedras',\n",
       " 'Relógios',\n",
       " 'Fogão',\n",
       " 'Geladeiras',\n",
       " 'Automóveis',\n",
       " 'Instrumentos Musicais']"
      ]
     },
     "execution_count": 8,
     "metadata": {},
     "output_type": "execute_result"
    }
   ],
   "source": [
    "categories = []\n",
    "with open('CATEGORIES.txt','r',encoding='utf-8') as f:\n",
    "    for line in f.read().splitlines():\n",
    "        categories.append(line)\n",
    "categories"
   ]
  },
  {
   "cell_type": "code",
   "execution_count": 9,
   "metadata": {},
   "outputs": [],
   "source": [
    "cores = multiprocessing.cpu_count()"
   ]
  },
  {
   "cell_type": "code",
   "execution_count": 10,
   "metadata": {},
   "outputs": [
    {
     "data": {
      "text/html": [
       "<div>\n",
       "<style scoped>\n",
       "    .dataframe tbody tr th:only-of-type {\n",
       "        vertical-align: middle;\n",
       "    }\n",
       "\n",
       "    .dataframe tbody tr th {\n",
       "        vertical-align: top;\n",
       "    }\n",
       "\n",
       "    .dataframe thead th {\n",
       "        text-align: right;\n",
       "    }\n",
       "</style>\n",
       "<table border=\"1\" class=\"dataframe\">\n",
       "  <thead>\n",
       "    <tr style=\"text-align: right;\">\n",
       "      <th></th>\n",
       "      <th>Description</th>\n",
       "      <th>Category</th>\n",
       "    </tr>\n",
       "  </thead>\n",
       "  <tbody>\n",
       "    <tr>\n",
       "      <td>0</td>\n",
       "      <td>20 Gaveteiros</td>\n",
       "      <td>19</td>\n",
       "    </tr>\n",
       "    <tr>\n",
       "      <td>1</td>\n",
       "      <td>Carregador de bateria BLACK &amp;amp; DECKER</td>\n",
       "      <td>7</td>\n",
       "    </tr>\n",
       "    <tr>\n",
       "      <td>2</td>\n",
       "      <td>Aprox. 11 Peças - Caixas para exibição de film...</td>\n",
       "      <td>3</td>\n",
       "    </tr>\n",
       "    <tr>\n",
       "      <td>3</td>\n",
       "      <td>Refrigerador 6 portas - Gelopar</td>\n",
       "      <td>12</td>\n",
       "    </tr>\n",
       "    <tr>\n",
       "      <td>4</td>\n",
       "      <td>Aprox. 16 Peças: Conjuntos Alpes, Conjunto Ori...</td>\n",
       "      <td>3</td>\n",
       "    </tr>\n",
       "  </tbody>\n",
       "</table>\n",
       "</div>"
      ],
      "text/plain": [
       "                                         Description  Category\n",
       "0                                      20 Gaveteiros        19\n",
       "1           Carregador de bateria BLACK &amp; DECKER         7\n",
       "2  Aprox. 11 Peças - Caixas para exibição de film...         3\n",
       "3                    Refrigerador 6 portas - Gelopar        12\n",
       "4  Aprox. 16 Peças: Conjuntos Alpes, Conjunto Ori...         3"
      ]
     },
     "execution_count": 10,
     "metadata": {},
     "output_type": "execute_result"
    }
   ],
   "source": [
    "df = pd.read_csv('description_list_categorized.csv',sep=';',encoding='latin1').dropna()\n",
    "df.head()"
   ]
  },
  {
   "cell_type": "code",
   "execution_count": 11,
   "metadata": {},
   "outputs": [],
   "source": [
    "raw_embedding = load_embedding('glove_s50.txt')"
   ]
  },
  {
   "cell_type": "code",
   "execution_count": 12,
   "metadata": {},
   "outputs": [],
   "source": [
    "txt = [preprocess_string(doc, raw_embedding) for doc in df['Description']]"
   ]
  },
  {
   "cell_type": "code",
   "execution_count": 13,
   "metadata": {},
   "outputs": [
    {
     "data": {
      "text/plain": [
       "(10082, 1)"
      ]
     },
     "execution_count": 13,
     "metadata": {},
     "output_type": "execute_result"
    }
   ],
   "source": [
    "df_clean = pd.DataFrame({'clean': txt})\n",
    "#df_clean = df_clean.dropna().drop_duplicates()\n",
    "df_clean.shape"
   ]
  },
  {
   "cell_type": "code",
   "execution_count": 14,
   "metadata": {},
   "outputs": [
    {
     "data": {
      "text/html": [
       "<div>\n",
       "<style scoped>\n",
       "    .dataframe tbody tr th:only-of-type {\n",
       "        vertical-align: middle;\n",
       "    }\n",
       "\n",
       "    .dataframe tbody tr th {\n",
       "        vertical-align: top;\n",
       "    }\n",
       "\n",
       "    .dataframe thead th {\n",
       "        text-align: right;\n",
       "    }\n",
       "</style>\n",
       "<table border=\"1\" class=\"dataframe\">\n",
       "  <thead>\n",
       "    <tr style=\"text-align: right;\">\n",
       "      <th></th>\n",
       "      <th>clean</th>\n",
       "    </tr>\n",
       "  </thead>\n",
       "  <tbody>\n",
       "    <tr>\n",
       "      <td>10077</td>\n",
       "      <td>aprox manoplas rotativas mpw weg para porta pa...</td>\n",
       "    </tr>\n",
       "    <tr>\n",
       "      <td>10078</td>\n",
       "      <td>apenas vaso</td>\n",
       "    </tr>\n",
       "    <tr>\n",
       "      <td>10079</td>\n",
       "      <td>peças caixas de som para &lt;unk&gt; conversor pata ...</td>\n",
       "    </tr>\n",
       "    <tr>\n",
       "      <td>10080</td>\n",
       "      <td>mesa de vidro para computador</td>\n",
       "    </tr>\n",
       "    <tr>\n",
       "      <td>10081</td>\n",
       "      <td>mesa redonda e vidro</td>\n",
       "    </tr>\n",
       "  </tbody>\n",
       "</table>\n",
       "</div>"
      ],
      "text/plain": [
       "                                                   clean\n",
       "10077  aprox manoplas rotativas mpw weg para porta pa...\n",
       "10078                                        apenas vaso\n",
       "10079  peças caixas de som para <unk> conversor pata ...\n",
       "10080                      mesa de vidro para computador\n",
       "10081                               mesa redonda e vidro"
      ]
     },
     "execution_count": 14,
     "metadata": {},
     "output_type": "execute_result"
    }
   ],
   "source": [
    "df_clean.tail()"
   ]
  },
  {
   "cell_type": "code",
   "execution_count": 15,
   "metadata": {},
   "outputs": [],
   "source": [
    "x_input = df_clean['clean'].values.tolist()\n",
    "labels = df['Category'].values.tolist()"
   ]
  },
  {
   "cell_type": "code",
   "execution_count": 16,
   "metadata": {},
   "outputs": [
    {
     "data": {
      "text/plain": [
       "10082"
      ]
     },
     "execution_count": 16,
     "metadata": {},
     "output_type": "execute_result"
    }
   ],
   "source": [
    "temp_df = pd.DataFrame(list(zip(x_input,labels)), columns=['clean','Category']).dropna()\n",
    "len(temp_df)"
   ]
  },
  {
   "cell_type": "code",
   "execution_count": 17,
   "metadata": {},
   "outputs": [],
   "source": [
    "jobs_encoder = LabelBinarizer()\n",
    "jobs_encoder.fit(temp_df['Category'])\n",
    "transformed = jobs_encoder.transform(temp_df['Category'])\n",
    "ohe_df = pd.DataFrame(transformed)\n",
    "temp_df = pd.concat([temp_df, ohe_df], axis=1).drop(['Category'], axis=1)\n",
    "temp_df = temp_df.dropna()"
   ]
  },
  {
   "cell_type": "code",
   "execution_count": 18,
   "metadata": {},
   "outputs": [
    {
     "data": {
      "text/plain": [
       "(10082, 35)"
      ]
     },
     "execution_count": 18,
     "metadata": {},
     "output_type": "execute_result"
    }
   ],
   "source": [
    "labels_df = temp_df.drop(['clean'], axis=1)\n",
    "y = labels_df.values\n",
    "y.shape"
   ]
  },
  {
   "cell_type": "code",
   "execution_count": 19,
   "metadata": {},
   "outputs": [
    {
     "data": {
      "text/plain": [
       "10082"
      ]
     },
     "execution_count": 19,
     "metadata": {},
     "output_type": "execute_result"
    }
   ],
   "source": [
    "x_input = temp_df['clean'].values.tolist()\n",
    "len(x_input)"
   ]
  },
  {
   "cell_type": "code",
   "execution_count": 20,
   "metadata": {},
   "outputs": [],
   "source": [
    "t = Tokenizer()\n",
    "t.fit_on_texts(x_input)\n",
    "vocab_size = len(t.word_index) + 1"
   ]
  },
  {
   "cell_type": "code",
   "execution_count": 21,
   "metadata": {},
   "outputs": [],
   "source": [
    "embedding_vectors = get_weight_matrix(raw_embedding, t.word_index, seq_len=50)"
   ]
  },
  {
   "cell_type": "code",
   "execution_count": 22,
   "metadata": {},
   "outputs": [],
   "source": [
    "encoded_docs = t.texts_to_sequences(x_input)"
   ]
  },
  {
   "cell_type": "code",
   "execution_count": 23,
   "metadata": {},
   "outputs": [],
   "source": [
    "max_length = 200\n",
    "padded_docs = pad_sequences(encoded_docs, maxlen=max_length, padding='post')"
   ]
  },
  {
   "cell_type": "code",
   "execution_count": 24,
   "metadata": {},
   "outputs": [
    {
     "data": {
      "text/plain": [
       "(10082, 200)"
      ]
     },
     "execution_count": 24,
     "metadata": {},
     "output_type": "execute_result"
    }
   ],
   "source": [
    "padded_docs.shape"
   ]
  },
  {
   "cell_type": "code",
   "execution_count": 25,
   "metadata": {},
   "outputs": [
    {
     "data": {
      "text/plain": [
       "(10082, 35)"
      ]
     },
     "execution_count": 25,
     "metadata": {},
     "output_type": "execute_result"
    }
   ],
   "source": [
    "y.shape"
   ]
  },
  {
   "cell_type": "code",
   "execution_count": 26,
   "metadata": {},
   "outputs": [],
   "source": [
    "e = Embedding(vocab_size, 50, weights=[embedding_vectors],mask_zero=False, input_length=max_length, trainable=False)"
   ]
  },
  {
   "cell_type": "code",
   "execution_count": 27,
   "metadata": {},
   "outputs": [
    {
     "data": {
      "text/plain": [
       "\"\\n#ARCHTECTURE #1\\n\\ntry:\\n    del model\\nexcept:\\n    pass\\nmodel = Sequential()\\nmodel.add(e)\\nmodel.add(MaxPooling1D())\\nmodel.add(Flatten())\\nmodel.add(Dense(16, activation='relu'))\\nmodel.add(Dense(35, activation='sigmoid'))\\n\\nmodel.compile(loss='categorical_crossentropy',\\n              optimizer=Adam(lr=0.001),\\n              metrics=['accuracy'])\\n\""
      ]
     },
     "execution_count": 27,
     "metadata": {},
     "output_type": "execute_result"
    }
   ],
   "source": [
    "#ARCHTECTURE #1\n",
    "try:\n",
    "    del model\n",
    "except:\n",
    "    pass\n",
    "model = Sequential()\n",
    "model.add(e)\n",
    "model.add(MaxPooling1D())\n",
    "model.add(Flatten())\n",
    "model.add(Dense(16, activation='relu'))\n",
    "model.add(Dense(35, activation='sigmoid'))\n",
    "\n",
    "model.compile(loss='categorical_crossentropy',\n",
    "              optimizer=Adam(lr=0.001),\n",
    "              metrics=['accuracy'])"
   ]
  },
  {
   "cell_type": "code",
   "execution_count": 29,
   "metadata": {},
   "outputs": [
    {
     "name": "stdout",
     "output_type": "stream",
     "text": [
      "Model: \"sequential\"\n",
      "_________________________________________________________________\n",
      "Layer (type)                 Output Shape              Param #   \n",
      "=================================================================\n",
      "embedding (Embedding)        (None, 200, 50)           293600    \n",
      "_________________________________________________________________\n",
      "lstm (LSTM)                  (None, 128)               91648     \n",
      "_________________________________________________________________\n",
      "flatten (Flatten)            (None, 128)               0         \n",
      "_________________________________________________________________\n",
      "dense (Dense)                (None, 32)                4128      \n",
      "_________________________________________________________________\n",
      "dense_1 (Dense)              (None, 35)                1155      \n",
      "=================================================================\n",
      "Total params: 390,531\n",
      "Trainable params: 96,931\n",
      "Non-trainable params: 293,600\n",
      "_________________________________________________________________\n"
     ]
    }
   ],
   "source": [
    "model.summary()"
   ]
  },
  {
   "cell_type": "code",
   "execution_count": 30,
   "metadata": {},
   "outputs": [
    {
     "name": "stdout",
     "output_type": "stream",
     "text": [
      "Train on 8065 samples, validate on 2017 samples\n",
      "Epoch 1/200\n",
      "8065/8065 - 25s - loss: 3.2162 - accuracy: 0.0972 - val_loss: 3.0977 - val_accuracy: 0.1185\n",
      "Epoch 2/200\n",
      "8065/8065 - 25s - loss: 3.0590 - accuracy: 0.1316 - val_loss: 3.0174 - val_accuracy: 0.1428\n",
      "Epoch 3/200\n",
      "8065/8065 - 25s - loss: 3.0067 - accuracy: 0.1389 - val_loss: 3.0136 - val_accuracy: 0.1403\n",
      "Epoch 4/200\n",
      "8065/8065 - 25s - loss: 2.9950 - accuracy: 0.1349 - val_loss: 2.9972 - val_accuracy: 0.1423\n",
      "Epoch 5/200\n",
      "8065/8065 - 25s - loss: 2.9743 - accuracy: 0.1371 - val_loss: 2.9685 - val_accuracy: 0.1428\n",
      "Epoch 6/200\n",
      "8065/8065 - 25s - loss: 2.9832 - accuracy: 0.1418 - val_loss: 2.9973 - val_accuracy: 0.1423\n",
      "Epoch 7/200\n",
      "8065/8065 - 26s - loss: 2.9834 - accuracy: 0.1406 - val_loss: 2.9906 - val_accuracy: 0.1438\n",
      "Epoch 8/200\n",
      "8065/8065 - 25s - loss: 2.9807 - accuracy: 0.1414 - val_loss: 2.9878 - val_accuracy: 0.1428\n",
      "Epoch 9/200\n",
      "8065/8065 - 25s - loss: 2.9720 - accuracy: 0.1407 - val_loss: 2.9879 - val_accuracy: 0.1438\n",
      "Epoch 10/200\n",
      "8065/8065 - 25s - loss: 2.9721 - accuracy: 0.1409 - val_loss: 2.9663 - val_accuracy: 0.1468\n",
      "Epoch 11/200\n",
      "8065/8065 - 25s - loss: 3.0150 - accuracy: 0.1389 - val_loss: 2.8895 - val_accuracy: 0.1562\n",
      "Epoch 12/200\n",
      "8065/8065 - 25s - loss: 2.5282 - accuracy: 0.2492 - val_loss: 2.2887 - val_accuracy: 0.3317\n",
      "Epoch 13/200\n",
      "8065/8065 - 25s - loss: 2.3608 - accuracy: 0.2812 - val_loss: 2.4909 - val_accuracy: 0.2722\n",
      "Epoch 14/200\n",
      "8065/8065 - 25s - loss: 2.1107 - accuracy: 0.3614 - val_loss: 2.2755 - val_accuracy: 0.2766\n",
      "Epoch 15/200\n",
      "8065/8065 - 25s - loss: 1.9384 - accuracy: 0.4171 - val_loss: 2.6747 - val_accuracy: 0.2444\n",
      "Epoch 16/200\n",
      "8065/8065 - 25s - loss: 1.7963 - accuracy: 0.4577 - val_loss: 4.6425 - val_accuracy: 0.0471\n",
      "Epoch 17/200\n",
      "8065/8065 - 26s - loss: 1.9675 - accuracy: 0.4338 - val_loss: 1.7770 - val_accuracy: 0.4879\n",
      "Epoch 18/200\n",
      "8065/8065 - 26s - loss: 1.5953 - accuracy: 0.5237 - val_loss: 1.6844 - val_accuracy: 0.4958\n",
      "Epoch 19/200\n",
      "8065/8065 - 25s - loss: 1.5097 - accuracy: 0.5525 - val_loss: 1.5496 - val_accuracy: 0.5350\n",
      "Epoch 20/200\n",
      "8065/8065 - 25s - loss: 1.4573 - accuracy: 0.5629 - val_loss: 1.7856 - val_accuracy: 0.5295\n",
      "Epoch 21/200\n",
      "8065/8065 - 26s - loss: 1.6086 - accuracy: 0.5422 - val_loss: 2.5395 - val_accuracy: 0.2385\n",
      "Epoch 22/200\n",
      "8065/8065 - 26s - loss: 1.4964 - accuracy: 0.5595 - val_loss: 3.1720 - val_accuracy: 0.1433\n",
      "Epoch 23/200\n",
      "8065/8065 - 26s - loss: 1.5138 - accuracy: 0.5581 - val_loss: 1.4827 - val_accuracy: 0.5801\n",
      "Epoch 24/200\n",
      "8065/8065 - 25s - loss: 1.3585 - accuracy: 0.6067 - val_loss: 1.5573 - val_accuracy: 0.5488\n",
      "Epoch 25/200\n",
      "8065/8065 - 26s - loss: 1.2984 - accuracy: 0.6242 - val_loss: 3.7006 - val_accuracy: 0.0431\n",
      "Epoch 26/200\n",
      "8065/8065 - 26s - loss: 1.4736 - accuracy: 0.5590 - val_loss: 1.5990 - val_accuracy: 0.5171\n",
      "Epoch 27/200\n",
      "8065/8065 - 25s - loss: 1.2279 - accuracy: 0.6387 - val_loss: 1.3616 - val_accuracy: 0.6083\n",
      "Epoch 28/200\n",
      "8065/8065 - 26s - loss: 1.2173 - accuracy: 0.6382 - val_loss: 1.3093 - val_accuracy: 0.6301\n",
      "Epoch 29/200\n",
      "8065/8065 - 25s - loss: 1.1454 - accuracy: 0.6644 - val_loss: 2.3520 - val_accuracy: 0.3109\n",
      "Epoch 30/200\n",
      "8065/8065 - 26s - loss: 1.2294 - accuracy: 0.6356 - val_loss: 2.3194 - val_accuracy: 0.3282\n",
      "Epoch 31/200\n",
      "8065/8065 - 25s - loss: 1.1909 - accuracy: 0.6413 - val_loss: 2.6039 - val_accuracy: 0.2647\n",
      "Epoch 32/200\n",
      "8065/8065 - 26s - loss: 1.1933 - accuracy: 0.6472 - val_loss: 1.2258 - val_accuracy: 0.6559\n",
      "Epoch 33/200\n",
      "8065/8065 - 25s - loss: 1.1468 - accuracy: 0.6610 - val_loss: 1.5656 - val_accuracy: 0.5439\n",
      "Epoch 34/200\n",
      "8065/8065 - 25s - loss: 1.0966 - accuracy: 0.6719 - val_loss: 1.2206 - val_accuracy: 0.6554\n",
      "Epoch 35/200\n",
      "8065/8065 - 25s - loss: 1.0127 - accuracy: 0.6968 - val_loss: 1.2064 - val_accuracy: 0.6549\n",
      "Epoch 36/200\n",
      "8065/8065 - 26s - loss: 0.9761 - accuracy: 0.7121 - val_loss: 1.4654 - val_accuracy: 0.5741\n",
      "Epoch 37/200\n",
      "8065/8065 - 26s - loss: 1.0482 - accuracy: 0.6816 - val_loss: 1.3259 - val_accuracy: 0.6217\n",
      "Epoch 38/200\n",
      "8065/8065 - 25s - loss: 1.0227 - accuracy: 0.6965 - val_loss: 1.9079 - val_accuracy: 0.4323\n",
      "Epoch 39/200\n",
      "8065/8065 - 25s - loss: 1.0346 - accuracy: 0.6926 - val_loss: 1.3933 - val_accuracy: 0.5746\n",
      "Epoch 40/200\n",
      "8065/8065 - 26s - loss: 1.0615 - accuracy: 0.6858 - val_loss: 1.4664 - val_accuracy: 0.5627\n",
      "Epoch 41/200\n",
      "8065/8065 - 25s - loss: 1.0241 - accuracy: 0.6940 - val_loss: 1.2452 - val_accuracy: 0.6529\n",
      "Epoch 42/200\n",
      "8065/8065 - 25s - loss: 0.9023 - accuracy: 0.7410 - val_loss: 1.6601 - val_accuracy: 0.5117\n",
      "Epoch 43/200\n",
      "8065/8065 - 25s - loss: 1.0055 - accuracy: 0.7077 - val_loss: 1.4322 - val_accuracy: 0.5984\n",
      "Epoch 44/200\n",
      "8065/8065 - 25s - loss: 1.0206 - accuracy: 0.7032 - val_loss: 1.1204 - val_accuracy: 0.6916\n",
      "Epoch 45/200\n",
      "8065/8065 - 25s - loss: 1.0145 - accuracy: 0.7112 - val_loss: 1.5199 - val_accuracy: 0.5454\n",
      "Epoch 46/200\n",
      "8065/8065 - 26s - loss: 0.9163 - accuracy: 0.7370 - val_loss: 1.4203 - val_accuracy: 0.6202\n",
      "Epoch 47/200\n",
      "8065/8065 - 26s - loss: 0.9870 - accuracy: 0.7182 - val_loss: 1.7127 - val_accuracy: 0.5067\n",
      "Epoch 48/200\n",
      "8065/8065 - 26s - loss: 1.0748 - accuracy: 0.6911 - val_loss: 1.0500 - val_accuracy: 0.7105\n",
      "Epoch 49/200\n",
      "8065/8065 - 26s - loss: 0.8822 - accuracy: 0.7497 - val_loss: 2.2021 - val_accuracy: 0.4412\n",
      "Epoch 50/200\n",
      "8065/8065 - 26s - loss: 1.1084 - accuracy: 0.6880 - val_loss: 1.1427 - val_accuracy: 0.6753\n",
      "Epoch 51/200\n",
      "8065/8065 - 26s - loss: 0.9061 - accuracy: 0.7458 - val_loss: 1.0532 - val_accuracy: 0.7224\n",
      "Epoch 52/200\n",
      "8065/8065 - 26s - loss: 0.8376 - accuracy: 0.7628 - val_loss: 5.1212 - val_accuracy: 0.0580\n",
      "Epoch 53/200\n",
      "8065/8065 - 26s - loss: 1.7778 - accuracy: 0.5507 - val_loss: 1.0758 - val_accuracy: 0.7075\n",
      "Epoch 54/200\n",
      "8065/8065 - 26s - loss: 0.8608 - accuracy: 0.7495 - val_loss: 1.3384 - val_accuracy: 0.6133\n",
      "Epoch 55/200\n",
      "8065/8065 - 27s - loss: 0.8145 - accuracy: 0.7581 - val_loss: 1.4195 - val_accuracy: 0.5875\n",
      "Epoch 56/200\n",
      "8065/8065 - 26s - loss: 0.8031 - accuracy: 0.7645 - val_loss: 1.6890 - val_accuracy: 0.4834\n",
      "Epoch 57/200\n",
      "8065/8065 - 26s - loss: 0.8646 - accuracy: 0.7476 - val_loss: 1.1383 - val_accuracy: 0.6728\n",
      "Epoch 58/200\n",
      "8065/8065 - 26s - loss: 0.8955 - accuracy: 0.7392 - val_loss: 2.1565 - val_accuracy: 0.4740\n",
      "Epoch 59/200\n",
      "8065/8065 - 26s - loss: 2.2369 - accuracy: 0.3895 - val_loss: 1.9064 - val_accuracy: 0.4155\n",
      "Epoch 60/200\n",
      "8065/8065 - 26s - loss: 1.6552 - accuracy: 0.4858 - val_loss: 1.6311 - val_accuracy: 0.4769\n",
      "Epoch 61/200\n",
      "8065/8065 - 26s - loss: 1.4237 - accuracy: 0.5547 - val_loss: 1.4237 - val_accuracy: 0.5597\n",
      "Epoch 62/200\n",
      "8065/8065 - 26s - loss: 1.2204 - accuracy: 0.6355 - val_loss: 1.2727 - val_accuracy: 0.6391\n",
      "Epoch 63/200\n",
      "8065/8065 - 26s - loss: 1.1104 - accuracy: 0.6874 - val_loss: 1.3821 - val_accuracy: 0.6098\n",
      "Epoch 64/200\n",
      "8065/8065 - 26s - loss: 1.0459 - accuracy: 0.7086 - val_loss: 1.2437 - val_accuracy: 0.6435\n",
      "Epoch 65/200\n",
      "8065/8065 - 25s - loss: 0.9645 - accuracy: 0.7340 - val_loss: 1.0941 - val_accuracy: 0.7040\n",
      "Epoch 66/200\n",
      "8065/8065 - 25s - loss: 1.1538 - accuracy: 0.6706 - val_loss: 1.3735 - val_accuracy: 0.6143\n",
      "Epoch 67/200\n",
      "8065/8065 - 25s - loss: 1.0905 - accuracy: 0.6920 - val_loss: 1.2052 - val_accuracy: 0.6703\n",
      "Epoch 68/200\n",
      "8065/8065 - 26s - loss: 1.0201 - accuracy: 0.7079 - val_loss: 1.1576 - val_accuracy: 0.6758\n",
      "Epoch 69/200\n",
      "8065/8065 - 25s - loss: 0.9625 - accuracy: 0.7224 - val_loss: 1.0845 - val_accuracy: 0.7020\n",
      "Epoch 70/200\n",
      "8065/8065 - 25s - loss: 0.8926 - accuracy: 0.7495 - val_loss: 1.1361 - val_accuracy: 0.6797\n",
      "Epoch 71/200\n",
      "8065/8065 - 25s - loss: 0.8589 - accuracy: 0.7572 - val_loss: 1.1231 - val_accuracy: 0.6842\n",
      "Epoch 72/200\n",
      "8065/8065 - 25s - loss: 0.9003 - accuracy: 0.7474 - val_loss: 2.0395 - val_accuracy: 0.3857\n",
      "Epoch 73/200\n",
      "8065/8065 - 25s - loss: 0.8435 - accuracy: 0.7570 - val_loss: 1.0370 - val_accuracy: 0.7229\n",
      "Epoch 74/200\n",
      "8065/8065 - 25s - loss: 0.8067 - accuracy: 0.7730 - val_loss: 1.5130 - val_accuracy: 0.5632\n",
      "Epoch 75/200\n",
      "8065/8065 - 25s - loss: 0.8816 - accuracy: 0.7445 - val_loss: 1.0066 - val_accuracy: 0.7348\n",
      "Epoch 76/200\n",
      "8065/8065 - 26s - loss: 1.0586 - accuracy: 0.7232 - val_loss: 2.3711 - val_accuracy: 0.3228\n",
      "Epoch 77/200\n",
      "8065/8065 - 25s - loss: 1.2779 - accuracy: 0.6267 - val_loss: 3.2837 - val_accuracy: 0.1497\n",
      "Epoch 78/200\n",
      "8065/8065 - 25s - loss: 1.2649 - accuracy: 0.6402 - val_loss: 1.2478 - val_accuracy: 0.6510\n"
     ]
    },
    {
     "name": "stdout",
     "output_type": "stream",
     "text": [
      "Epoch 79/200\n",
      "8065/8065 - 26s - loss: 1.5525 - accuracy: 0.5474 - val_loss: 1.4982 - val_accuracy: 0.5855\n",
      "Epoch 80/200\n",
      "8065/8065 - 25s - loss: 1.3444 - accuracy: 0.6041 - val_loss: 2.6574 - val_accuracy: 0.1800\n",
      "Epoch 81/200\n",
      "8065/8065 - 25s - loss: 1.3876 - accuracy: 0.5902 - val_loss: 1.3500 - val_accuracy: 0.6282\n",
      "Epoch 82/200\n",
      "8065/8065 - 25s - loss: 1.1847 - accuracy: 0.6614 - val_loss: 2.8226 - val_accuracy: 0.1939\n",
      "Epoch 83/200\n",
      "8065/8065 - 25s - loss: 1.4342 - accuracy: 0.5798 - val_loss: 1.3642 - val_accuracy: 0.6153\n",
      "Epoch 84/200\n",
      "8065/8065 - 25s - loss: 1.1617 - accuracy: 0.6735 - val_loss: 1.2840 - val_accuracy: 0.6653\n",
      "Epoch 85/200\n",
      "8065/8065 - 25s - loss: 1.1192 - accuracy: 0.6924 - val_loss: 2.0444 - val_accuracy: 0.3614\n",
      "Epoch 86/200\n",
      "8065/8065 - 25s - loss: 1.1692 - accuracy: 0.6723 - val_loss: 2.3074 - val_accuracy: 0.2717\n",
      "Epoch 87/200\n",
      "8065/8065 - 25s - loss: 1.2329 - accuracy: 0.6551 - val_loss: 1.6361 - val_accuracy: 0.4561\n",
      "Epoch 88/200\n",
      "8065/8065 - 25s - loss: 1.0522 - accuracy: 0.7068 - val_loss: 1.3171 - val_accuracy: 0.6401\n",
      "Epoch 89/200\n",
      "8065/8065 - 25s - loss: 1.0338 - accuracy: 0.7099 - val_loss: 1.1825 - val_accuracy: 0.6862\n",
      "Epoch 90/200\n",
      "8065/8065 - 25s - loss: 0.9958 - accuracy: 0.7237 - val_loss: 1.1501 - val_accuracy: 0.6891\n",
      "Epoch 91/200\n",
      "8065/8065 - 25s - loss: 0.9841 - accuracy: 0.7219 - val_loss: 2.1092 - val_accuracy: 0.3297\n",
      "Epoch 92/200\n",
      "8065/8065 - 25s - loss: 1.0059 - accuracy: 0.7189 - val_loss: 1.1646 - val_accuracy: 0.6862\n",
      "Epoch 93/200\n",
      "8065/8065 - 25s - loss: 0.9082 - accuracy: 0.7557 - val_loss: 1.2998 - val_accuracy: 0.6460\n",
      "Epoch 94/200\n",
      "8065/8065 - 25s - loss: 0.8861 - accuracy: 0.7567 - val_loss: 1.0917 - val_accuracy: 0.7085\n",
      "Epoch 95/200\n",
      "8065/8065 - 26s - loss: 0.8877 - accuracy: 0.7554 - val_loss: 2.3266 - val_accuracy: 0.3004\n",
      "Epoch 96/200\n",
      "8065/8065 - 26s - loss: 0.9432 - accuracy: 0.7409 - val_loss: 2.5740 - val_accuracy: 0.2419\n",
      "Epoch 97/200\n",
      "8065/8065 - 26s - loss: 0.9719 - accuracy: 0.7296 - val_loss: 1.1581 - val_accuracy: 0.6901\n",
      "Epoch 98/200\n",
      "8065/8065 - 27s - loss: 0.8638 - accuracy: 0.7715 - val_loss: 3.1175 - val_accuracy: 0.2172\n",
      "Epoch 99/200\n",
      "8065/8065 - 25s - loss: 1.1050 - accuracy: 0.7001 - val_loss: 1.1405 - val_accuracy: 0.7095\n",
      "Epoch 100/200\n",
      "8065/8065 - 25s - loss: 0.9892 - accuracy: 0.7425 - val_loss: 2.2434 - val_accuracy: 0.3803\n",
      "Epoch 101/200\n",
      "8065/8065 - 25s - loss: 1.8547 - accuracy: 0.4996 - val_loss: 2.4214 - val_accuracy: 0.2781\n",
      "Epoch 102/200\n",
      "8065/8065 - 25s - loss: 1.3504 - accuracy: 0.6275 - val_loss: 2.7479 - val_accuracy: 0.2117\n",
      "Epoch 103/200\n",
      "8065/8065 - 26s - loss: 1.5563 - accuracy: 0.6156 - val_loss: 2.7032 - val_accuracy: 0.3555\n",
      "Epoch 104/200\n",
      "8065/8065 - 25s - loss: 1.8066 - accuracy: 0.4603 - val_loss: 1.6467 - val_accuracy: 0.4705\n",
      "Epoch 105/200\n",
      "8065/8065 - 25s - loss: 1.4382 - accuracy: 0.5414 - val_loss: 1.5961 - val_accuracy: 0.4983\n",
      "Epoch 106/200\n",
      "8065/8065 - 26s - loss: 1.3360 - accuracy: 0.5772 - val_loss: 1.5808 - val_accuracy: 0.5181\n",
      "Epoch 107/200\n",
      "8065/8065 - 26s - loss: 1.2749 - accuracy: 0.5944 - val_loss: 1.4363 - val_accuracy: 0.5692\n",
      "Epoch 108/200\n",
      "8065/8065 - 26s - loss: 1.2890 - accuracy: 0.6092 - val_loss: 2.5140 - val_accuracy: 0.2727\n",
      "Epoch 109/200\n",
      "8065/8065 - 26s - loss: 1.4660 - accuracy: 0.5978 - val_loss: 1.7326 - val_accuracy: 0.5325\n",
      "Epoch 110/200\n",
      "8065/8065 - 26s - loss: 1.2734 - accuracy: 0.6672 - val_loss: 1.5084 - val_accuracy: 0.5944\n",
      "Epoch 111/200\n",
      "8065/8065 - 26s - loss: 1.1468 - accuracy: 0.6941 - val_loss: 1.2679 - val_accuracy: 0.6733\n",
      "Epoch 112/200\n",
      "8065/8065 - 26s - loss: 1.3646 - accuracy: 0.6513 - val_loss: 1.7977 - val_accuracy: 0.5245\n",
      "Epoch 113/200\n",
      "8065/8065 - 26s - loss: 1.4257 - accuracy: 0.6117 - val_loss: 1.4850 - val_accuracy: 0.6059\n",
      "Epoch 114/200\n",
      "8065/8065 - 26s - loss: 1.2190 - accuracy: 0.6683 - val_loss: 1.5533 - val_accuracy: 0.5786\n",
      "Epoch 115/200\n",
      "8065/8065 - 25s - loss: 1.2928 - accuracy: 0.6466 - val_loss: 1.6653 - val_accuracy: 0.5503\n",
      "Epoch 116/200\n",
      "8065/8065 - 26s - loss: 2.0749 - accuracy: 0.3876 - val_loss: 2.4866 - val_accuracy: 0.2925\n",
      "Epoch 117/200\n",
      "8065/8065 - 26s - loss: 2.0691 - accuracy: 0.3747 - val_loss: 2.8021 - val_accuracy: 0.1958\n",
      "Epoch 118/200\n",
      "8065/8065 - 25s - loss: 2.0985 - accuracy: 0.3557 - val_loss: 1.9161 - val_accuracy: 0.3922\n",
      "Epoch 119/200\n",
      "8065/8065 - 26s - loss: 1.7154 - accuracy: 0.4466 - val_loss: 1.7202 - val_accuracy: 0.4358\n",
      "Epoch 120/200\n",
      "8065/8065 - 26s - loss: 1.5792 - accuracy: 0.4789 - val_loss: 1.6695 - val_accuracy: 0.4680\n",
      "Epoch 121/200\n",
      "8065/8065 - 26s - loss: 1.5882 - accuracy: 0.5030 - val_loss: 2.3466 - val_accuracy: 0.3456\n",
      "Epoch 122/200\n",
      "8065/8065 - 26s - loss: 1.5462 - accuracy: 0.5489 - val_loss: 1.5507 - val_accuracy: 0.5548\n",
      "Epoch 123/200\n",
      "8065/8065 - 25s - loss: 1.3410 - accuracy: 0.6088 - val_loss: 1.4842 - val_accuracy: 0.5697\n",
      "Epoch 124/200\n",
      "8065/8065 - 26s - loss: 1.3722 - accuracy: 0.6060 - val_loss: 1.4269 - val_accuracy: 0.5905\n",
      "Epoch 125/200\n",
      "8065/8065 - 26s - loss: 1.1992 - accuracy: 0.6588 - val_loss: 1.3285 - val_accuracy: 0.6296\n",
      "Epoch 126/200\n",
      "8065/8065 - 26s - loss: 1.1293 - accuracy: 0.6786 - val_loss: 1.7464 - val_accuracy: 0.4239\n",
      "Epoch 127/200\n",
      "8065/8065 - 25s - loss: 1.0796 - accuracy: 0.6956 - val_loss: 1.2111 - val_accuracy: 0.6673\n",
      "Epoch 128/200\n",
      "8065/8065 - 26s - loss: 1.0389 - accuracy: 0.7075 - val_loss: 1.2484 - val_accuracy: 0.6728\n",
      "Epoch 129/200\n",
      "8065/8065 - 26s - loss: 1.0229 - accuracy: 0.7148 - val_loss: 1.1335 - val_accuracy: 0.7000\n",
      "Epoch 130/200\n",
      "8065/8065 - 25s - loss: 1.0184 - accuracy: 0.7198 - val_loss: 1.1394 - val_accuracy: 0.6946\n",
      "Epoch 131/200\n",
      "8065/8065 - 26s - loss: 0.9652 - accuracy: 0.7312 - val_loss: 1.7812 - val_accuracy: 0.4601\n",
      "Epoch 132/200\n",
      "8065/8065 - 26s - loss: 1.0192 - accuracy: 0.7149 - val_loss: 1.0833 - val_accuracy: 0.7194\n",
      "Epoch 133/200\n",
      "8065/8065 - 25s - loss: 0.9128 - accuracy: 0.7562 - val_loss: 1.1335 - val_accuracy: 0.7025\n",
      "Epoch 134/200\n",
      "8065/8065 - 25s - loss: 0.9007 - accuracy: 0.7602 - val_loss: 1.0618 - val_accuracy: 0.7293\n",
      "Epoch 135/200\n",
      "8065/8065 - 26s - loss: 0.8776 - accuracy: 0.7657 - val_loss: 1.0394 - val_accuracy: 0.7328\n",
      "Epoch 136/200\n",
      "8065/8065 - 26s - loss: 0.8802 - accuracy: 0.7597 - val_loss: 1.0921 - val_accuracy: 0.7080\n",
      "Epoch 137/200\n",
      "8065/8065 - 26s - loss: 0.9147 - accuracy: 0.7422 - val_loss: 1.4471 - val_accuracy: 0.5726\n",
      "Epoch 138/200\n",
      "8065/8065 - 26s - loss: 0.8699 - accuracy: 0.7647 - val_loss: 1.1946 - val_accuracy: 0.6688\n",
      "Epoch 139/200\n",
      "8065/8065 - 26s - loss: 0.8069 - accuracy: 0.7876 - val_loss: 1.1748 - val_accuracy: 0.6609\n",
      "Epoch 140/200\n",
      "8065/8065 - 26s - loss: 0.8537 - accuracy: 0.7571 - val_loss: 1.0474 - val_accuracy: 0.7288\n",
      "Epoch 141/200\n",
      "8065/8065 - 26s - loss: 0.8616 - accuracy: 0.7664 - val_loss: 1.0060 - val_accuracy: 0.7491\n",
      "Epoch 142/200\n",
      "8065/8065 - 26s - loss: 0.8279 - accuracy: 0.7754 - val_loss: 1.5851 - val_accuracy: 0.5171\n",
      "Epoch 143/200\n",
      "8065/8065 - 26s - loss: 0.8441 - accuracy: 0.7652 - val_loss: 0.9467 - val_accuracy: 0.7640\n",
      "Epoch 144/200\n",
      "8065/8065 - 26s - loss: 0.7020 - accuracy: 0.8177 - val_loss: 0.9547 - val_accuracy: 0.7526\n",
      "Epoch 145/200\n",
      "8065/8065 - 26s - loss: 0.7799 - accuracy: 0.7926 - val_loss: 1.6369 - val_accuracy: 0.5469\n",
      "Epoch 146/200\n",
      "8065/8065 - 26s - loss: 1.2885 - accuracy: 0.6232 - val_loss: 1.3362 - val_accuracy: 0.6227\n",
      "Epoch 147/200\n",
      "8065/8065 - 26s - loss: 1.0274 - accuracy: 0.7039 - val_loss: 1.1497 - val_accuracy: 0.7025\n",
      "Epoch 148/200\n",
      "8065/8065 - 27s - loss: 1.1364 - accuracy: 0.6921 - val_loss: 1.6215 - val_accuracy: 0.5369\n",
      "Epoch 149/200\n",
      "8065/8065 - 26s - loss: 1.1586 - accuracy: 0.6825 - val_loss: 1.2332 - val_accuracy: 0.6733\n",
      "Epoch 150/200\n",
      "8065/8065 - 26s - loss: 1.0118 - accuracy: 0.7111 - val_loss: 1.1611 - val_accuracy: 0.7090\n",
      "Epoch 151/200\n",
      "8065/8065 - 26s - loss: 0.8943 - accuracy: 0.7561 - val_loss: 1.5539 - val_accuracy: 0.5573\n",
      "Epoch 152/200\n",
      "8065/8065 - 26s - loss: 1.0349 - accuracy: 0.7070 - val_loss: 1.3244 - val_accuracy: 0.6440\n",
      "Epoch 153/200\n",
      "8065/8065 - 26s - loss: 0.9098 - accuracy: 0.7540 - val_loss: 1.0901 - val_accuracy: 0.7313\n",
      "Epoch 154/200\n",
      "8065/8065 - 26s - loss: 0.8382 - accuracy: 0.7726 - val_loss: 1.1094 - val_accuracy: 0.7134\n",
      "Epoch 155/200\n",
      "8065/8065 - 26s - loss: 0.8741 - accuracy: 0.7649 - val_loss: 1.1646 - val_accuracy: 0.6852\n",
      "Epoch 156/200\n",
      "8065/8065 - 26s - loss: 0.8547 - accuracy: 0.7658 - val_loss: 1.4915 - val_accuracy: 0.5944\n"
     ]
    },
    {
     "name": "stdout",
     "output_type": "stream",
     "text": [
      "Epoch 157/200\n",
      "8065/8065 - 26s - loss: 0.9990 - accuracy: 0.7121 - val_loss: 1.4392 - val_accuracy: 0.5642\n",
      "Epoch 158/200\n",
      "8065/8065 - 26s - loss: 0.8055 - accuracy: 0.7799 - val_loss: 1.0004 - val_accuracy: 0.7457\n",
      "Epoch 159/200\n",
      "8065/8065 - 26s - loss: 0.7339 - accuracy: 0.8089 - val_loss: 2.3423 - val_accuracy: 0.3262\n",
      "Epoch 160/200\n",
      "8065/8065 - 26s - loss: 0.8747 - accuracy: 0.7593 - val_loss: 1.5098 - val_accuracy: 0.5409\n",
      "Epoch 161/200\n",
      "8065/8065 - 26s - loss: 0.8318 - accuracy: 0.7788 - val_loss: 2.0966 - val_accuracy: 0.3332\n",
      "Epoch 162/200\n",
      "8065/8065 - 26s - loss: 0.9226 - accuracy: 0.7397 - val_loss: 1.3051 - val_accuracy: 0.6296\n",
      "Epoch 163/200\n",
      "8065/8065 - 26s - loss: 0.7713 - accuracy: 0.7914 - val_loss: 1.3392 - val_accuracy: 0.5920\n",
      "Epoch 164/200\n",
      "8065/8065 - 26s - loss: 0.7722 - accuracy: 0.7918 - val_loss: 1.0351 - val_accuracy: 0.7407\n",
      "Epoch 165/200\n",
      "8065/8065 - 26s - loss: 0.7859 - accuracy: 0.7891 - val_loss: 1.3489 - val_accuracy: 0.5860\n",
      "Epoch 166/200\n",
      "8065/8065 - 26s - loss: 0.7896 - accuracy: 0.7810 - val_loss: 5.4567 - val_accuracy: 0.0392\n",
      "Epoch 167/200\n",
      "8065/8065 - 26s - loss: 2.5089 - accuracy: 0.4353 - val_loss: 1.5940 - val_accuracy: 0.5870\n",
      "Epoch 168/200\n",
      "8065/8065 - 26s - loss: 1.3421 - accuracy: 0.6219 - val_loss: 1.3749 - val_accuracy: 0.6108\n",
      "Epoch 169/200\n",
      "8065/8065 - 26s - loss: 1.1441 - accuracy: 0.6820 - val_loss: 1.3803 - val_accuracy: 0.6227\n",
      "Epoch 170/200\n",
      "8065/8065 - 26s - loss: 1.0099 - accuracy: 0.7298 - val_loss: 1.1635 - val_accuracy: 0.7050\n",
      "Epoch 171/200\n",
      "8065/8065 - 26s - loss: 0.9051 - accuracy: 0.7549 - val_loss: 3.0741 - val_accuracy: 0.1344\n",
      "Epoch 172/200\n",
      "8065/8065 - 26s - loss: 1.0756 - accuracy: 0.7051 - val_loss: 1.4267 - val_accuracy: 0.6039\n",
      "Epoch 173/200\n",
      "8065/8065 - 26s - loss: 0.8445 - accuracy: 0.7701 - val_loss: 1.1437 - val_accuracy: 0.6867\n",
      "Epoch 174/200\n",
      "8065/8065 - 26s - loss: 0.7926 - accuracy: 0.7860 - val_loss: 0.9941 - val_accuracy: 0.7551\n",
      "Epoch 175/200\n",
      "8065/8065 - 26s - loss: 0.7669 - accuracy: 0.7931 - val_loss: 1.1172 - val_accuracy: 0.7194\n",
      "Epoch 176/200\n",
      "8065/8065 - 26s - loss: 0.8640 - accuracy: 0.7683 - val_loss: 1.0152 - val_accuracy: 0.7442\n",
      "Epoch 177/200\n",
      "8065/8065 - 26s - loss: 0.7810 - accuracy: 0.7870 - val_loss: 1.2416 - val_accuracy: 0.6554\n",
      "Epoch 178/200\n",
      "8065/8065 - 26s - loss: 0.7499 - accuracy: 0.7981 - val_loss: 0.9643 - val_accuracy: 0.7700\n",
      "Epoch 179/200\n",
      "8065/8065 - 26s - loss: 0.8667 - accuracy: 0.7575 - val_loss: 1.0391 - val_accuracy: 0.7566\n",
      "Epoch 180/200\n",
      "8065/8065 - 26s - loss: 0.8424 - accuracy: 0.7681 - val_loss: 0.9914 - val_accuracy: 0.7432\n",
      "Epoch 181/200\n",
      "8065/8065 - 26s - loss: 0.8042 - accuracy: 0.7847 - val_loss: 1.6488 - val_accuracy: 0.6316\n",
      "Epoch 182/200\n",
      "8065/8065 - 26s - loss: 1.1147 - accuracy: 0.7064 - val_loss: 1.4115 - val_accuracy: 0.6024\n",
      "Epoch 183/200\n",
      "8065/8065 - 26s - loss: 0.8885 - accuracy: 0.7664 - val_loss: 1.1646 - val_accuracy: 0.6867\n",
      "Epoch 184/200\n",
      "8065/8065 - 26s - loss: 0.8499 - accuracy: 0.7726 - val_loss: 3.0041 - val_accuracy: 0.2172\n",
      "Epoch 185/200\n",
      "8065/8065 - 26s - loss: 0.9398 - accuracy: 0.7495 - val_loss: 1.2979 - val_accuracy: 0.6153\n",
      "Epoch 186/200\n",
      "8065/8065 - 26s - loss: 0.7900 - accuracy: 0.7908 - val_loss: 0.9453 - val_accuracy: 0.7729\n",
      "Epoch 187/200\n",
      "8065/8065 - 26s - loss: 0.9642 - accuracy: 0.7428 - val_loss: 1.9894 - val_accuracy: 0.4110\n",
      "Epoch 188/200\n",
      "8065/8065 - 26s - loss: 0.9225 - accuracy: 0.7520 - val_loss: 1.1679 - val_accuracy: 0.6698\n",
      "Epoch 189/200\n",
      "8065/8065 - 26s - loss: 0.7911 - accuracy: 0.7906 - val_loss: 1.0493 - val_accuracy: 0.7258\n",
      "Epoch 190/200\n",
      "8065/8065 - 26s - loss: 0.8596 - accuracy: 0.7575 - val_loss: 1.0609 - val_accuracy: 0.7278\n",
      "Epoch 191/200\n",
      "8065/8065 - 26s - loss: 0.7984 - accuracy: 0.7790 - val_loss: 1.1074 - val_accuracy: 0.6971\n",
      "Epoch 192/200\n",
      "8065/8065 - 26s - loss: 0.8154 - accuracy: 0.7700 - val_loss: 0.9938 - val_accuracy: 0.7546\n",
      "Epoch 193/200\n",
      "8065/8065 - 26s - loss: 0.7038 - accuracy: 0.8129 - val_loss: 5.1324 - val_accuracy: 0.0416\n",
      "Epoch 194/200\n",
      "8065/8065 - 26s - loss: 2.3217 - accuracy: 0.5153 - val_loss: 1.2650 - val_accuracy: 0.6991\n",
      "Epoch 195/200\n",
      "8065/8065 - 26s - loss: 1.0970 - accuracy: 0.7122 - val_loss: 1.2585 - val_accuracy: 0.6520\n",
      "Epoch 196/200\n",
      "8065/8065 - 26s - loss: 0.9416 - accuracy: 0.7549 - val_loss: 4.5006 - val_accuracy: 0.0412\n",
      "Epoch 197/200\n",
      "8065/8065 - 26s - loss: 2.1489 - accuracy: 0.5376 - val_loss: 2.3169 - val_accuracy: 0.3252\n",
      "Epoch 198/200\n",
      "8065/8065 - 26s - loss: 0.9384 - accuracy: 0.7556 - val_loss: 1.7821 - val_accuracy: 0.4665\n",
      "Epoch 199/200\n",
      "8065/8065 - 26s - loss: 0.8795 - accuracy: 0.7591 - val_loss: 1.2436 - val_accuracy: 0.6733\n",
      "Epoch 200/200\n",
      "8065/8065 - 26s - loss: 0.7914 - accuracy: 0.7851 - val_loss: 1.1070 - val_accuracy: 0.7050\n"
     ]
    }
   ],
   "source": [
    "hist = model.fit([padded_docs], \n",
    "                 y, \n",
    "                 validation_split=0.2,\n",
    "                 epochs=200,\n",
    "                 batch_size=64, \n",
    "                 shuffle=True,\n",
    "                 verbose=2\n",
    "                )"
   ]
  },
  {
   "cell_type": "code",
   "execution_count": 31,
   "metadata": {
    "scrolled": false
   },
   "outputs": [
    {
     "data": {
      "image/png": "[encoded data removed]",
      "text/plain": [
       "<Figure size 432x288 with 1 Axes>"
      ]
     },
     "metadata": {
      "needs_background": "light"
     },
     "output_type": "display_data"
    }
   ],
   "source": [
    "history = pd.DataFrame(hist.history)\n",
    "#plt.figure(figsize=(12,12))\n",
    "\n",
    "plt.plot(history[\"loss\"], 'r',label='loss')\n",
    "plt.plot(history[\"val_loss\"], 'b', label='val_loss')\n",
    "plt.legend()\n",
    "plt.show()"
   ]
  },
  {
   "cell_type": "code",
   "execution_count": 32,
   "metadata": {},
   "outputs": [
    {
     "data": {
      "image/png": "[encoded data removed]",
      "text/plain": [
       "<Figure size 432x288 with 1 Axes>"
      ]
     },
     "metadata": {
      "needs_background": "light"
     },
     "output_type": "display_data"
    }
   ],
   "source": [
    "history = pd.DataFrame(hist.history)\n",
    "#plt.figure(figsize=(12,12))\n",
    "\n",
    "plt.plot(history[\"accuracy\"], 'r',label='acc')\n",
    "plt.plot(history[\"val_accuracy\"], 'b', label='val_acc')\n",
    "plt.legend()\n",
    "plt.show()"
   ]
  },
  {
   "cell_type": "code",
   "execution_count": 33,
   "metadata": {},
   "outputs": [
    {
     "name": "stdout",
     "output_type": "stream",
     "text": [
      "Test input: vaso mônaco <unk> l p h ] <unk> <unk> \n",
      "Label is: Vasos Predicted: Vasos\n"
     ]
    }
   ],
   "source": [
    "#random sampling\n",
    "test_label = 'cachorro'\n",
    "predicted_label = 'gato'\n",
    "while test_label != predicted_label:\n",
    "    \n",
    "    random_number = int(random.random()*len(x_input))\n",
    "    test_string = x_input[random_number]\n",
    "    test_label = categories[y[random_number].argmax()]\n",
    "\n",
    "    padded_sequence_to_predict = preprocess_to_predict(string=test_string,\n",
    "                                                    word_vectors=raw_embedding,\n",
    "                                                    tokenizer=t\n",
    "                                                    )\n",
    "    prediction = model.predict(padded_sequence_to_predict)[0] #predict always returns a list\n",
    "    predicted_label = categories[prediction.argmax()]\n",
    "    \n",
    "    if test_label == predicted_label:\n",
    "        print(f'Test input: {test_string} \\nLabel is: {test_label} Predicted: {predicted_label}')"
   ]
  },
  {
   "cell_type": "code",
   "execution_count": 34,
   "metadata": {},
   "outputs": [
    {
     "name": "stdout",
     "output_type": "stream",
     "text": [
      "Predicted: Fogão\n"
     ]
    }
   ],
   "source": [
    "test_string = \"\"\"\n",
    "celulares\n",
    "\"\"\"\n",
    "\n",
    "\n",
    "padded_sequence_to_predict = preprocess_to_predict(string=test_string,\n",
    "                                                word_vectors=raw_embedding,\n",
    "                                                tokenizer=t\n",
    "                                                )\n",
    "prediction = model.predict(padded_sequence_to_predict)[0] #predict always returns a list\n",
    "predicted_label = categories[prediction.argmax()]\n",
    "\n",
    "\n",
    "print(f'Predicted: {predicted_label}')"
   ]
  },
  {
   "cell_type": "code",
   "execution_count": null,
   "metadata": {},
   "outputs": [],
   "source": []
  }
 ],
 "metadata": {
  "kernelspec": {
   "display_name": "Python 3",
   "language": "python",
   "name": "python3"
  },
  "language_info": {
   "codemirror_mode": {
    "name": "ipython",
    "version": 3
   },
   "file_extension": ".py",
   "mimetype": "text/x-python",
   "name": "python",
   "nbconvert_exporter": "python",
   "pygments_lexer": "ipython3",
   "version": "3.8.2"
  }
 },
 "nbformat": 4,
 "nbformat_minor": 2
}
