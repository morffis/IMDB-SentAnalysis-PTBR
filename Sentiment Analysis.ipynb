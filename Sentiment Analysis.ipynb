{
 "cells": [
  {
   "cell_type": "code",
   "execution_count": 1,
   "metadata": {},
   "outputs": [
    {
     "name": "stderr",
     "output_type": "stream",
     "text": [
      "unable to import 'smart_open.gcs', disabling that module\n"
     ]
    },
    {
     "name": "stdout",
     "output_type": "stream",
     "text": [
      "Num GPUs Available:  1\n"
     ]
    }
   ],
   "source": [
    "#DATA MANIPULATION\n",
    "import pandas as pd\n",
    "import numpy as np\n",
    "\n",
    "#EMBEDDING AND PREPROCESSING\n",
    "from gensim.models import KeyedVectors\n",
    "import re\n",
    "import nltk\n",
    "import gensim\n",
    "import multiprocessing\n",
    "import spacy\n",
    "from sklearn.preprocessing import LabelBinarizer\n",
    "\n",
    "#TIME CONTROLS\n",
    "import time\n",
    "\n",
    "#PLOT\n",
    "import matplotlib.pyplot as plt\n",
    "plt.style.use(\"ggplot\")\n",
    "get_ipython().run_line_magic('matplotlib', 'inline')\n",
    "\n",
    "#TENSORFLOW AND KERAS\n",
    "import tensorflow as tf\n",
    "from tensorflow import keras\n",
    "from tensorflow.keras.preprocessing.sequence import pad_sequences\n",
    "from tensorflow.keras.layers import Dense, Input, LSTM, Embedding, Dropout,SpatialDropout1D, Bidirectional, GlobalAveragePooling1D, MaxPooling1D, Flatten\n",
    "from tensorflow.keras.models import Model, Sequential\n",
    "from tensorflow.keras.optimizers import Adam\n",
    "from tensorflow.keras.layers import BatchNormalization\n",
    "from tensorflow.keras.preprocessing.text import Tokenizer\n",
    "\n",
    "import random\n",
    "print(\"Num GPUs Available: \", len(tf.config.experimental.list_physical_devices('GPU')))\n",
    "#tf.debugging.set_log_device_placement(True)"
   ]
  },
  {
   "cell_type": "code",
   "execution_count": 2,
   "metadata": {},
   "outputs": [
    {
     "data": {
      "text/plain": [
       "[PhysicalDevice(name='/physical_device:GPU:0', device_type='GPU')]"
      ]
     },
     "execution_count": 2,
     "metadata": {},
     "output_type": "execute_result"
    }
   ],
   "source": [
    "tf.config.list_physical_devices('GPU')"
   ]
  },
  {
   "cell_type": "code",
   "execution_count": 3,
   "metadata": {},
   "outputs": [],
   "source": [
    "def load_embedding(filename, encoding='utf-8'):\n",
    "    # load embedding into memory, skip first line\n",
    "    file = open(filename,'r',encoding=encoding)\n",
    "    lines = file.readlines()[1:]\n",
    "    file.close()\n",
    "    # create a map of words to vectors\n",
    "    embedding = dict()\n",
    "    for line in lines:\n",
    "        parts = line.split()\n",
    "        # key is string word, value is numpy array for vector\n",
    "        try:\n",
    "            embedding[parts[0]] = np.asarray(parts[1:], dtype='float32')\n",
    "        except:\n",
    "            pass\n",
    "    return embedding\n",
    "\n",
    "\n",
    "def get_weight_matrix(embedding, vocab, seq_len):\n",
    "    # total vocabulary size plus 0 for unknown words\n",
    "    vocab_size = len(vocab) + 1\n",
    "    # define weight matrix dimensions with all 0\n",
    "    weight_matrix = np.zeros((vocab_size, seq_len))\n",
    "    # step vocab, store vectors using the Tokenizer's integer mapping\n",
    "    for word, i in vocab.items():\n",
    "        weight_matrix[i] = embedding.get(word)\n",
    "    return weight_matrix\n",
    "\n",
    "def cleaning(doc):\n",
    "    txt = [token.text for token in doc]\n",
    "    if len(txt) > 2:        \n",
    "        return re.sub(' +', ' ', ' '.join(txt)).strip()\n",
    "\n",
    "def preprocess_string(string, word_vectors):\n",
    "    unk_string = '<unk>'\n",
    "    counter = 0\n",
    "    string = re.sub('[().\\\\/\\-_\\+\":“0-9]', ' ', str(string)).lower()\n",
    "    for word in string.split():\n",
    "        try:\n",
    "            word_vectors[word]\n",
    "            string_to_attatch = word\n",
    "        except:\n",
    "            string_to_attatch = unk_string\n",
    "        \n",
    "        if counter:\n",
    "            string = string +' '+ string_to_attatch\n",
    "        else:\n",
    "            string = string_to_attatch\n",
    "            counter = 1\n",
    "    \n",
    "    return string\n",
    "\n",
    "def pad_sequence(string, tokenizer):\n",
    "    encoded_string = tokenizer.texts_to_sequences(string)\n",
    "    padded_enconded = pad_sequences(encoded_string, maxlen=max_length, padding='post')\n",
    "    return padded_enconded\n",
    "\n",
    "def preprocess_to_predict(string, word_vectors, tokenizer):\n",
    "    string = preprocess_string(string, word_vectors)    \n",
    "    padded_sequence = pad_sequence(string, tokenizer)\n",
    "    \n",
    "    return padded_sequence"
   ]
  },
  {
   "cell_type": "code",
   "execution_count": 4,
   "metadata": {},
   "outputs": [],
   "source": [
    "categories = ['neg, pos']"
   ]
  },
  {
   "cell_type": "code",
   "execution_count": 5,
   "metadata": {},
   "outputs": [
    {
     "data": {
      "text/html": [
       "<div>\n",
       "<style scoped>\n",
       "    .dataframe tbody tr th:only-of-type {\n",
       "        vertical-align: middle;\n",
       "    }\n",
       "\n",
       "    .dataframe tbody tr th {\n",
       "        vertical-align: top;\n",
       "    }\n",
       "\n",
       "    .dataframe thead th {\n",
       "        text-align: right;\n",
       "    }\n",
       "</style>\n",
       "<table border=\"1\" class=\"dataframe\">\n",
       "  <thead>\n",
       "    <tr style=\"text-align: right;\">\n",
       "      <th></th>\n",
       "      <th>text_en</th>\n",
       "      <th>text_pt</th>\n",
       "      <th>sentiment</th>\n",
       "    </tr>\n",
       "    <tr>\n",
       "      <th>id</th>\n",
       "      <th></th>\n",
       "      <th></th>\n",
       "      <th></th>\n",
       "    </tr>\n",
       "  </thead>\n",
       "  <tbody>\n",
       "    <tr>\n",
       "      <th>1</th>\n",
       "      <td>Once again Mr. Costner has dragged out a movie...</td>\n",
       "      <td>Mais uma vez, o Sr. Costner arrumou um filme p...</td>\n",
       "      <td>neg</td>\n",
       "    </tr>\n",
       "    <tr>\n",
       "      <th>2</th>\n",
       "      <td>This is an example of why the majority of acti...</td>\n",
       "      <td>Este é um exemplo do motivo pelo qual a maiori...</td>\n",
       "      <td>neg</td>\n",
       "    </tr>\n",
       "    <tr>\n",
       "      <th>3</th>\n",
       "      <td>First of all I hate those moronic rappers, who...</td>\n",
       "      <td>Primeiro de tudo eu odeio esses raps imbecis, ...</td>\n",
       "      <td>neg</td>\n",
       "    </tr>\n",
       "    <tr>\n",
       "      <th>4</th>\n",
       "      <td>Not even the Beatles could write songs everyon...</td>\n",
       "      <td>Nem mesmo os Beatles puderam escrever músicas ...</td>\n",
       "      <td>neg</td>\n",
       "    </tr>\n",
       "    <tr>\n",
       "      <th>5</th>\n",
       "      <td>Brass pictures movies is not a fitting word fo...</td>\n",
       "      <td>Filmes de fotos de latão não é uma palavra apr...</td>\n",
       "      <td>neg</td>\n",
       "    </tr>\n",
       "  </tbody>\n",
       "</table>\n",
       "</div>"
      ],
      "text/plain": [
       "                                              text_en  \\\n",
       "id                                                      \n",
       "1   Once again Mr. Costner has dragged out a movie...   \n",
       "2   This is an example of why the majority of acti...   \n",
       "3   First of all I hate those moronic rappers, who...   \n",
       "4   Not even the Beatles could write songs everyon...   \n",
       "5   Brass pictures movies is not a fitting word fo...   \n",
       "\n",
       "                                              text_pt sentiment  \n",
       "id                                                               \n",
       "1   Mais uma vez, o Sr. Costner arrumou um filme p...       neg  \n",
       "2   Este é um exemplo do motivo pelo qual a maiori...       neg  \n",
       "3   Primeiro de tudo eu odeio esses raps imbecis, ...       neg  \n",
       "4   Nem mesmo os Beatles puderam escrever músicas ...       neg  \n",
       "5   Filmes de fotos de latão não é uma palavra apr...       neg  "
      ]
     },
     "execution_count": 5,
     "metadata": {},
     "output_type": "execute_result"
    }
   ],
   "source": [
    "df = pd.read_csv(\n",
    "    'imdb-reviews-pt-br.csv',              \n",
    "    index_col=0, \n",
    "    sep=',',\n",
    "    encoding='utf-8', \n",
    "    dtype=str, \n",
    "    quotechar='\"').dropna()\n",
    "df.head()"
   ]
  },
  {
   "cell_type": "code",
   "execution_count": 6,
   "metadata": {},
   "outputs": [],
   "source": [
    "raw_embedding = load_embedding('glove_s50.txt')\n",
    "txt = [preprocess_string(doc, raw_embedding) for doc in df['text_pt']]"
   ]
  },
  {
   "cell_type": "code",
   "execution_count": 7,
   "metadata": {},
   "outputs": [],
   "source": [
    "df_clean = pd.DataFrame({'clean': txt})"
   ]
  },
  {
   "cell_type": "code",
   "execution_count": 8,
   "metadata": {},
   "outputs": [
    {
     "data": {
      "text/plain": [
       "(49459, 1)"
      ]
     },
     "execution_count": 8,
     "metadata": {},
     "output_type": "execute_result"
    }
   ],
   "source": [
    "df_clean.shape"
   ]
  },
  {
   "cell_type": "code",
   "execution_count": 9,
   "metadata": {},
   "outputs": [
    {
     "data": {
      "text/html": [
       "<div>\n",
       "<style scoped>\n",
       "    .dataframe tbody tr th:only-of-type {\n",
       "        vertical-align: middle;\n",
       "    }\n",
       "\n",
       "    .dataframe tbody tr th {\n",
       "        vertical-align: top;\n",
       "    }\n",
       "\n",
       "    .dataframe thead th {\n",
       "        text-align: right;\n",
       "    }\n",
       "</style>\n",
       "<table border=\"1\" class=\"dataframe\">\n",
       "  <thead>\n",
       "    <tr style=\"text-align: right;\">\n",
       "      <th></th>\n",
       "      <th>clean</th>\n",
       "    </tr>\n",
       "  </thead>\n",
       "  <tbody>\n",
       "    <tr>\n",
       "      <th>49454</th>\n",
       "      <td>como a média de votos era muito &lt;unk&gt; e o fato...</td>\n",
       "    </tr>\n",
       "    <tr>\n",
       "      <th>49455</th>\n",
       "      <td>o enredo teve algumas reviravoltas infelizes e...</td>\n",
       "    </tr>\n",
       "    <tr>\n",
       "      <th>49456</th>\n",
       "      <td>estou espantado com a forma como este filme e ...</td>\n",
       "    </tr>\n",
       "    <tr>\n",
       "      <th>49457</th>\n",
       "      <td>a christmas together realmente veio antes do m...</td>\n",
       "    </tr>\n",
       "    <tr>\n",
       "      <th>49458</th>\n",
       "      <td>o drama romântico da classe trabalhadora do di...</td>\n",
       "    </tr>\n",
       "  </tbody>\n",
       "</table>\n",
       "</div>"
      ],
      "text/plain": [
       "                                                   clean\n",
       "49454  como a média de votos era muito <unk> e o fato...\n",
       "49455  o enredo teve algumas reviravoltas infelizes e...\n",
       "49456  estou espantado com a forma como este filme e ...\n",
       "49457  a christmas together realmente veio antes do m...\n",
       "49458  o drama romântico da classe trabalhadora do di..."
      ]
     },
     "execution_count": 9,
     "metadata": {},
     "output_type": "execute_result"
    }
   ],
   "source": [
    "df_clean.tail()"
   ]
  },
  {
   "cell_type": "code",
   "execution_count": 10,
   "metadata": {},
   "outputs": [],
   "source": [
    "x_input = df_clean['clean'].values.tolist()\n",
    "labels = df['sentiment'].values.tolist()"
   ]
  },
  {
   "cell_type": "code",
   "execution_count": 11,
   "metadata": {},
   "outputs": [
    {
     "data": {
      "text/plain": [
       "49459"
      ]
     },
     "execution_count": 11,
     "metadata": {},
     "output_type": "execute_result"
    }
   ],
   "source": [
    "temp_df = pd.DataFrame(list(zip(x_input,labels)), columns=['clean','Category']).dropna()\n",
    "len(temp_df)"
   ]
  },
  {
   "cell_type": "code",
   "execution_count": 12,
   "metadata": {},
   "outputs": [
    {
     "data": {
      "text/html": [
       "<div>\n",
       "<style scoped>\n",
       "    .dataframe tbody tr th:only-of-type {\n",
       "        vertical-align: middle;\n",
       "    }\n",
       "\n",
       "    .dataframe tbody tr th {\n",
       "        vertical-align: top;\n",
       "    }\n",
       "\n",
       "    .dataframe thead th {\n",
       "        text-align: right;\n",
       "    }\n",
       "</style>\n",
       "<table border=\"1\" class=\"dataframe\">\n",
       "  <thead>\n",
       "    <tr style=\"text-align: right;\">\n",
       "      <th></th>\n",
       "      <th>clean</th>\n",
       "      <th>Category</th>\n",
       "    </tr>\n",
       "  </thead>\n",
       "  <tbody>\n",
       "    <tr>\n",
       "      <th>0</th>\n",
       "      <td>mais uma &lt;unk&gt; o sr costner arrumou um filme p...</td>\n",
       "      <td>neg</td>\n",
       "    </tr>\n",
       "    <tr>\n",
       "      <th>1</th>\n",
       "      <td>este é um exemplo do motivo pelo qual a maiori...</td>\n",
       "      <td>neg</td>\n",
       "    </tr>\n",
       "    <tr>\n",
       "      <th>2</th>\n",
       "      <td>primeiro de tudo eu odeio esses raps &lt;unk&gt; que...</td>\n",
       "      <td>neg</td>\n",
       "    </tr>\n",
       "    <tr>\n",
       "      <th>3</th>\n",
       "      <td>nem mesmo os beatles puderam escrever músicas ...</td>\n",
       "      <td>neg</td>\n",
       "    </tr>\n",
       "    <tr>\n",
       "      <th>4</th>\n",
       "      <td>filmes de fotos de latão não é uma palavra apr...</td>\n",
       "      <td>neg</td>\n",
       "    </tr>\n",
       "  </tbody>\n",
       "</table>\n",
       "</div>"
      ],
      "text/plain": [
       "                                               clean Category\n",
       "0  mais uma <unk> o sr costner arrumou um filme p...      neg\n",
       "1  este é um exemplo do motivo pelo qual a maiori...      neg\n",
       "2  primeiro de tudo eu odeio esses raps <unk> que...      neg\n",
       "3  nem mesmo os beatles puderam escrever músicas ...      neg\n",
       "4  filmes de fotos de latão não é uma palavra apr...      neg"
      ]
     },
     "execution_count": 12,
     "metadata": {},
     "output_type": "execute_result"
    }
   ],
   "source": [
    "temp_df.head()"
   ]
  },
  {
   "cell_type": "code",
   "execution_count": 13,
   "metadata": {},
   "outputs": [],
   "source": [
    "temp_df = temp_df.sample(frac=1)\n",
    "temp_df = temp_df.dropna()"
   ]
  },
  {
   "cell_type": "code",
   "execution_count": 14,
   "metadata": {},
   "outputs": [],
   "source": [
    "temp_df['Cat_Num'] = np.where(temp_df['Category']=='neg', 0, 1)"
   ]
  },
  {
   "cell_type": "code",
   "execution_count": 15,
   "metadata": {},
   "outputs": [
    {
     "data": {
      "text/html": [
       "<div>\n",
       "<style scoped>\n",
       "    .dataframe tbody tr th:only-of-type {\n",
       "        vertical-align: middle;\n",
       "    }\n",
       "\n",
       "    .dataframe tbody tr th {\n",
       "        vertical-align: top;\n",
       "    }\n",
       "\n",
       "    .dataframe thead th {\n",
       "        text-align: right;\n",
       "    }\n",
       "</style>\n",
       "<table border=\"1\" class=\"dataframe\">\n",
       "  <thead>\n",
       "    <tr style=\"text-align: right;\">\n",
       "      <th></th>\n",
       "      <th>clean</th>\n",
       "      <th>Category</th>\n",
       "      <th>Cat_Num</th>\n",
       "    </tr>\n",
       "  </thead>\n",
       "  <tbody>\n",
       "    <tr>\n",
       "      <th>23891</th>\n",
       "      <td>aqui está o que você tem que lembrar sobre est...</td>\n",
       "      <td>pos</td>\n",
       "      <td>1</td>\n",
       "    </tr>\n",
       "    <tr>\n",
       "      <th>29374</th>\n",
       "      <td>eu tenho esse filme porque eu trabalhei em uma...</td>\n",
       "      <td>neg</td>\n",
       "      <td>0</td>\n",
       "    </tr>\n",
       "    <tr>\n",
       "      <th>35200</th>\n",
       "      <td>eu vi esse filme lá atrás quando foi lançado f...</td>\n",
       "      <td>neg</td>\n",
       "      <td>0</td>\n",
       "    </tr>\n",
       "    <tr>\n",
       "      <th>32603</th>\n",
       "      <td>este filme foi fantástico grande filme todo as...</td>\n",
       "      <td>neg</td>\n",
       "      <td>0</td>\n",
       "    </tr>\n",
       "    <tr>\n",
       "      <th>34596</th>\n",
       "      <td>com um título como ataque dos tomates &lt;unk&gt; , ...</td>\n",
       "      <td>neg</td>\n",
       "      <td>0</td>\n",
       "    </tr>\n",
       "    <tr>\n",
       "      <th>43685</th>\n",
       "      <td>este filme é rico em ação e gore o enredo é fo...</td>\n",
       "      <td>pos</td>\n",
       "      <td>1</td>\n",
       "    </tr>\n",
       "    <tr>\n",
       "      <th>2731</th>\n",
       "      <td>estrutura básica de uma história &lt;unk&gt; &lt;unk&gt; e...</td>\n",
       "      <td>neg</td>\n",
       "      <td>0</td>\n",
       "    </tr>\n",
       "    <tr>\n",
       "      <th>37968</th>\n",
       "      <td>eu recomendo este filme para todos não só para...</td>\n",
       "      <td>pos</td>\n",
       "      <td>1</td>\n",
       "    </tr>\n",
       "    <tr>\n",
       "      <th>27660</th>\n",
       "      <td>este filme foi alugado por um amigo sua escolh...</td>\n",
       "      <td>neg</td>\n",
       "      <td>0</td>\n",
       "    </tr>\n",
       "    <tr>\n",
       "      <th>4012</th>\n",
       "      <td>imagine se você pegasse o mito de &lt;unk&gt; mistur...</td>\n",
       "      <td>neg</td>\n",
       "      <td>0</td>\n",
       "    </tr>\n",
       "  </tbody>\n",
       "</table>\n",
       "</div>"
      ],
      "text/plain": [
       "                                                   clean Category  Cat_Num\n",
       "23891  aqui está o que você tem que lembrar sobre est...      pos        1\n",
       "29374  eu tenho esse filme porque eu trabalhei em uma...      neg        0\n",
       "35200  eu vi esse filme lá atrás quando foi lançado f...      neg        0\n",
       "32603  este filme foi fantástico grande filme todo as...      neg        0\n",
       "34596  com um título como ataque dos tomates <unk> , ...      neg        0\n",
       "43685  este filme é rico em ação e gore o enredo é fo...      pos        1\n",
       "2731   estrutura básica de uma história <unk> <unk> e...      neg        0\n",
       "37968  eu recomendo este filme para todos não só para...      pos        1\n",
       "27660  este filme foi alugado por um amigo sua escolh...      neg        0\n",
       "4012   imagine se você pegasse o mito de <unk> mistur...      neg        0"
      ]
     },
     "execution_count": 15,
     "metadata": {},
     "output_type": "execute_result"
    }
   ],
   "source": [
    "temp_df.tail(10)"
   ]
  },
  {
   "cell_type": "code",
   "execution_count": 16,
   "metadata": {},
   "outputs": [],
   "source": [
    "x_input = temp_df['clean'].values.tolist()\n",
    "labels = temp_df['Category'].values.tolist()"
   ]
  },
  {
   "cell_type": "code",
   "execution_count": 17,
   "metadata": {},
   "outputs": [],
   "source": [
    "t = Tokenizer()\n",
    "t.fit_on_texts(x_input)\n",
    "vocab_size = len(t.word_index) + 1"
   ]
  },
  {
   "cell_type": "code",
   "execution_count": 18,
   "metadata": {},
   "outputs": [],
   "source": [
    "embedding_vectors = get_weight_matrix(raw_embedding, t.word_index, seq_len=50)"
   ]
  },
  {
   "cell_type": "code",
   "execution_count": 19,
   "metadata": {},
   "outputs": [],
   "source": [
    "encoded_docs = t.texts_to_sequences(x_input)"
   ]
  },
  {
   "cell_type": "code",
   "execution_count": 20,
   "metadata": {},
   "outputs": [],
   "source": [
    "max_length = 200\n",
    "padded_docs = pad_sequences(encoded_docs, maxlen=max_length, padding='post')"
   ]
  },
  {
   "cell_type": "code",
   "execution_count": 21,
   "metadata": {},
   "outputs": [
    {
     "data": {
      "text/plain": [
       "(49459, 200)"
      ]
     },
     "execution_count": 21,
     "metadata": {},
     "output_type": "execute_result"
    }
   ],
   "source": [
    "padded_docs.shape"
   ]
  },
  {
   "cell_type": "code",
   "execution_count": 22,
   "metadata": {},
   "outputs": [
    {
     "data": {
      "text/plain": [
       "(49459,)"
      ]
     },
     "execution_count": 22,
     "metadata": {},
     "output_type": "execute_result"
    }
   ],
   "source": [
    "y = temp_df['Cat_Num'].values\n",
    "y.shape"
   ]
  },
  {
   "cell_type": "code",
   "execution_count": 23,
   "metadata": {},
   "outputs": [],
   "source": [
    "e = Embedding(vocab_size, 50, weights=[embedding_vectors], mask_zero=False, input_length=max_length, trainable=False)\n",
    "#e = Embedding(vocab_size, 50, weights=[embedding_vectors], mask_zero=True, input_length=max_length, trainable=False)"
   ]
  },
  {
   "cell_type": "code",
   "execution_count": 24,
   "metadata": {},
   "outputs": [
    {
     "data": {
      "text/plain": [
       "\"\\n#ARCHTECTURE #1\\ntry:\\n    del model\\nexcept:\\n    pass\\nmodel = Sequential()\\nmodel.add(e)\\nmodel.add(GlobalAveragePooling1D())\\nmodel.add(Flatten())\\nmodel.add(Dense(16, activation='relu'))\\nmodel.add(Dense(32, activation='relu'))\\nmodel.add(Dense(2, activation='softmax'))\\n\\n\\nmodel.compile(loss='sparse_categorical_crossentropy',\\n              optimizer=Adam(lr=0.00001),\\n              metrics=['accuracy'])\\n\""
      ]
     },
     "execution_count": 24,
     "metadata": {},
     "output_type": "execute_result"
    }
   ],
   "source": [
    "'''\n",
    "#ARCHTECTURE #1\n",
    "try:\n",
    "    del model\n",
    "except:\n",
    "    pass\n",
    "model = Sequential()\n",
    "model.add(e)\n",
    "model.add(GlobalAveragePooling1D())\n",
    "model.add(Flatten())\n",
    "model.add(Dense(16, activation='relu'))\n",
    "model.add(Dense(32, activation='relu'))\n",
    "model.add(Dense(2, activation='softmax'))\n",
    "\n",
    "\n",
    "model.compile(loss='sparse_categorical_crossentropy',\n",
    "              optimizer=Adam(lr=0.00001),\n",
    "              metrics=['accuracy'])\n",
    "'''"
   ]
  },
  {
   "cell_type": "code",
   "execution_count": 25,
   "metadata": {},
   "outputs": [
    {
     "data": {
      "text/plain": [
       "\"\\n#ARCHTECTURE #2\\ntry:\\n    del model\\nexcept:\\n    pass\\nmodel = Sequential()\\nmodel.add(e)\\nmodel.add(LSTM(200, return_sequences=True))\\nmodel.add(LSTM(100))\\nmodel.add(Dense(16, activation='relu'))\\nmodel.add(Dense(32, activation='relu'))\\nmodel.add(Dense(2, activation='softmax'))\\n\\n\\nmodel.compile(loss='sparse_categorical_crossentropy',\\n              optimizer=Adam(lr=0.00001),\\n              metrics=['accuracy'])\\n\""
      ]
     },
     "execution_count": 25,
     "metadata": {},
     "output_type": "execute_result"
    }
   ],
   "source": [
    "'''\n",
    "#ARCHTECTURE #2\n",
    "try:\n",
    "    del model\n",
    "except:\n",
    "    pass\n",
    "model = Sequential()\n",
    "model.add(e)\n",
    "model.add(LSTM(200, return_sequences=True))\n",
    "model.add(LSTM(100))\n",
    "model.add(Dense(16, activation='relu'))\n",
    "model.add(Dense(32, activation='relu'))\n",
    "model.add(Dense(2, activation='softmax'))\n",
    "\n",
    "\n",
    "model.compile(loss='sparse_categorical_crossentropy',\n",
    "              optimizer=Adam(lr=0.00001),\n",
    "              metrics=['accuracy'])\n",
    "'''"
   ]
  },
  {
   "cell_type": "code",
   "execution_count": 26,
   "metadata": {},
   "outputs": [],
   "source": [
    "#ARCHTECTURE #3\n",
    "try:\n",
    "    del model\n",
    "except:\n",
    "    pass\n",
    "model = tf.keras.Sequential([\n",
    "    e,\n",
    "    Bidirectional(LSTM(32,  return_sequences=True)),\n",
    "    Bidirectional(LSTM(16)),\n",
    "    Dense(64, activation='relu'),\n",
    "    Dropout(0.5),\n",
    "    Dense(1)\n",
    "\n",
    "])\n",
    "\n",
    "model.compile(loss=tf.keras.losses.BinaryCrossentropy(from_logits=True),\n",
    "              optimizer=tf.keras.optimizers.Adam(1e-4),\n",
    "              metrics=['accuracy'])"
   ]
  },
  {
   "cell_type": "code",
   "execution_count": 27,
   "metadata": {},
   "outputs": [
    {
     "name": "stdout",
     "output_type": "stream",
     "text": [
      "Model: \"sequential\"\n",
      "_________________________________________________________________\n",
      "Layer (type)                 Output Shape              Param #   \n",
      "=================================================================\n",
      "embedding (Embedding)        (None, 200, 50)           4734250   \n",
      "_________________________________________________________________\n",
      "bidirectional (Bidirectional (None, 200, 64)           21248     \n",
      "_________________________________________________________________\n",
      "bidirectional_1 (Bidirection (None, 32)                10368     \n",
      "_________________________________________________________________\n",
      "dense (Dense)                (None, 64)                2112      \n",
      "_________________________________________________________________\n",
      "dropout (Dropout)            (None, 64)                0         \n",
      "_________________________________________________________________\n",
      "dense_1 (Dense)              (None, 1)                 65        \n",
      "=================================================================\n",
      "Total params: 4,768,043\n",
      "Trainable params: 33,793\n",
      "Non-trainable params: 4,734,250\n",
      "_________________________________________________________________\n"
     ]
    }
   ],
   "source": [
    "model.summary()"
   ]
  },
  {
   "cell_type": "code",
   "execution_count": 28,
   "metadata": {},
   "outputs": [
    {
     "data": {
      "text/plain": [
       "0"
      ]
     },
     "execution_count": 28,
     "metadata": {},
     "output_type": "execute_result"
    }
   ],
   "source": [
    "import gc\n",
    "gc.collect()"
   ]
  },
  {
   "cell_type": "code",
   "execution_count": 29,
   "metadata": {},
   "outputs": [
    {
     "name": "stdout",
     "output_type": "stream",
     "text": [
      "Train on 39567 samples, validate on 9892 samples\n",
      "Epoch 1/20\n",
      "39567/39567 - 48s - loss: 0.6820 - accuracy: 0.5168 - val_loss: 0.6897 - val_accuracy: 0.5118\n",
      "Epoch 2/20\n",
      "39567/39567 - 23s - loss: 0.6315 - accuracy: 0.6385 - val_loss: 0.5863 - val_accuracy: 0.7016\n",
      "Epoch 3/20\n",
      "39567/39567 - 22s - loss: 0.6301 - accuracy: 0.6348 - val_loss: 0.6628 - val_accuracy: 0.5291\n",
      "Epoch 4/20\n",
      "39567/39567 - 22s - loss: 0.6261 - accuracy: 0.6180 - val_loss: 0.5822 - val_accuracy: 0.6850\n",
      "Epoch 5/20\n",
      "39567/39567 - 22s - loss: 0.5747 - accuracy: 0.7035 - val_loss: 0.5553 - val_accuracy: 0.7285\n",
      "Epoch 6/20\n",
      "39567/39567 - 22s - loss: 0.5597 - accuracy: 0.7098 - val_loss: 0.5430 - val_accuracy: 0.7143\n",
      "Epoch 7/20\n",
      "39567/39567 - 22s - loss: 0.5455 - accuracy: 0.7157 - val_loss: 0.5324 - val_accuracy: 0.7406\n",
      "Epoch 8/20\n",
      "39567/39567 - 22s - loss: 0.5345 - accuracy: 0.7244 - val_loss: 0.5375 - val_accuracy: 0.7494\n",
      "Epoch 9/20\n",
      "39567/39567 - 23s - loss: 0.5215 - accuracy: 0.7336 - val_loss: 0.5100 - val_accuracy: 0.7496\n",
      "Epoch 10/20\n",
      "39567/39567 - 22s - loss: 0.5145 - accuracy: 0.7342 - val_loss: 0.5063 - val_accuracy: 0.7293\n",
      "Epoch 11/20\n",
      "39567/39567 - 22s - loss: 0.5034 - accuracy: 0.7432 - val_loss: 0.4907 - val_accuracy: 0.7622\n",
      "Epoch 12/20\n",
      "39567/39567 - 22s - loss: 0.4980 - accuracy: 0.7449 - val_loss: 0.4829 - val_accuracy: 0.7661\n",
      "Epoch 13/20\n",
      "39567/39567 - 22s - loss: 0.4906 - accuracy: 0.7534 - val_loss: 0.4734 - val_accuracy: 0.7683\n",
      "Epoch 14/20\n",
      "39567/39567 - 22s - loss: 0.4855 - accuracy: 0.7580 - val_loss: 0.4743 - val_accuracy: 0.7794\n",
      "Epoch 15/20\n",
      "39567/39567 - 22s - loss: 0.4766 - accuracy: 0.7640 - val_loss: 0.4592 - val_accuracy: 0.7771\n",
      "Epoch 16/20\n",
      "39567/39567 - 22s - loss: 0.4680 - accuracy: 0.7690 - val_loss: 0.4698 - val_accuracy: 0.7916\n",
      "Epoch 17/20\n",
      "39567/39567 - 22s - loss: 0.4662 - accuracy: 0.7713 - val_loss: 0.4476 - val_accuracy: 0.7758\n",
      "Epoch 18/20\n",
      "39567/39567 - 22s - loss: 0.4567 - accuracy: 0.7749 - val_loss: 0.4454 - val_accuracy: 0.7679\n",
      "Epoch 19/20\n",
      "39567/39567 - 22s - loss: 0.4483 - accuracy: 0.7822 - val_loss: 0.4404 - val_accuracy: 0.7986\n",
      "Epoch 20/20\n",
      "39567/39567 - 22s - loss: 0.4439 - accuracy: 0.7861 - val_loss: 0.4467 - val_accuracy: 0.8049\n"
     ]
    }
   ],
   "source": [
    "#with tf.device('/device:GPU:0'):\n",
    "\n",
    "hist = model.fit([padded_docs], \n",
    "                 y, \n",
    "                 validation_split=0.2,\n",
    "                 epochs=20,\n",
    "                 batch_size=64, \n",
    "                 shuffle=True,\n",
    "                 verbose=2\n",
    ")"
   ]
  },
  {
   "cell_type": "code",
   "execution_count": 30,
   "metadata": {},
   "outputs": [
    {
     "data": {
      "image/png": "[encoded data removed]",
      "text/plain": [
       "<Figure size 432x288 with 1 Axes>"
      ]
     },
     "metadata": {
      "needs_background": "light"
     },
     "output_type": "display_data"
    }
   ],
   "source": [
    "history = pd.DataFrame(hist.history)\n",
    "#plt.figure(figsize=(12,12))\n",
    "\n",
    "plt.plot(history[\"loss\"], 'r',label='loss')\n",
    "plt.plot(history[\"val_loss\"], 'b', label='val_loss')\n",
    "plt.legend()\n",
    "plt.show()"
   ]
  },
  {
   "cell_type": "code",
   "execution_count": 31,
   "metadata": {},
   "outputs": [
    {
     "data": {
      "image/png": "[encoded data removed]",
      "text/plain": [
       "<Figure size 432x288 with 1 Axes>"
      ]
     },
     "metadata": {
      "needs_background": "light"
     },
     "output_type": "display_data"
    }
   ],
   "source": [
    "history = pd.DataFrame(hist.history)\n",
    "#plt.figure(figsize=(12,12))\n",
    "\n",
    "plt.plot(history[\"accuracy\"], 'r',label='acc')\n",
    "plt.plot(history[\"val_accuracy\"], 'b', label='val_acc')\n",
    "plt.legend()\n",
    "plt.show()"
   ]
  },
  {
   "cell_type": "code",
   "execution_count": 39,
   "metadata": {},
   "outputs": [
    {
     "name": "stdout",
     "output_type": "stream",
     "text": [
      "Predicted: -0.2980053126811981\n"
     ]
    }
   ],
   "source": [
    "#test_string = \"Este foi o pior filme que eu tive o desprazer de assistir em toda a minha vida.\"\n",
    "#test_string = \"Péssimo. Odiei a atuação e foi simplesmente patético. Não sei porque as pessoas ainda insistem nesse tipo de filme\"\n",
    "#test_string = \"Mais uma vez, o Sr. Costner arrumou um filme por muito mais tempo do que o necessário. Além das terríveis seqüências de resgate no mar, das quais há muito poucas, eu simplesmente não me importei com nenhum dos personagens. A maioria de nós tem fantasmas no armário, e o personagem Costers é realizado logo no início, e depois esquecido até muito mais tarde, quando eu não me importava. O personagem com o qual deveríamos nos importar é muito arrogante e superconfiante, Ashton Kutcher. O problema é que ele sai como um garoto que pensa que é melhor do que qualquer outra pessoa ao seu redor e não mostra sinais de um armário desordenado. Seu único obstáculo parece estar vencendo Costner. Finalmente, quando estamos bem além do meio do caminho, Costner nos conta sobre os fantasmas dos Kutchers. Somos informados de por que Kutcher é levado a ser o melhor sem pressentimentos ou presságios anteriores. Nenhuma mágica aqui, era tudo que eu podia fazer para não desligar uma hora.\"\n",
    "\n",
    "#test_string = \"O drama romântico da classe trabalhadora do diretor Martin Ritt é tão inacreditável quanto eles são, mas há momentos de prazer devido principalmente ao carisma das estrelas Jane Fonda e Robert De Niro, ambos ótimos. Ela é uma viúva que não pode seguir em frente, é analfabeta e é uma inventora de armários - provavelmente você pode adivinhar o resto. Adaptação do romance de Pat Barkers \"\"Union Street\"\" um título melhor! é tão descontraído que beirar sem graça, e a edição de filmes é uma bagunça, mas ainda é agradável; uma fantasia de colarinho azul em tons rosados. Não há aberturas para questões sérias, mesmo o ângulo do analfabetismo é apenas uma ferramenta de enredo para a história de amor que se segue e não há fogos de artifício reais, embora os personagens sejam intencionalmente um pouco incolores e as derivações reduzidas a um nível interessante. O final é puro fluff - e os cínicos acharão difícil de engolir - embora esses dois personagens mereçam um final feliz e a foto não seria realmente satisfatória de outra maneira. a partir de\"\n",
    "#test_string = 'Eu vi pela primeira vez a Idade do Gelo nos Cinemas Subiaco quando saiu, de volta em 02. Eu tinha apenas 13 anos na época, mas mesmo assim eu gostei. Ele tinha algum tipo de calor. Nós o tivemos em vídeo por vários anos e não importa quantas vezes você assiste, nunca fica chato. Isto é devido ao elemento que o torna diferente de todas as outras animações em 3D feitas na época - os personagens não têm um lar particular que eles deixam. Eles são nômades, e isso é realmente refrescante e edificante para assistir.Além disso, cada personagem individual na superfície, parece estar apenas colocando-se uns com os outros, mas eles são realmente todos bons amigos. Além disso, todos os personagens têm seus próprios encantos, até os bandidos. Sid, o preguiçoso, é encantador em sua forma irritante, excessivamente afetuosa e ingênua. Manny é adorável em seu personagem deprimido e recluso, e assim por diante. Outro grande ponto sobre o filme é a beleza da animação. Todos os ambientes e personagens foram modelados originalmente pelo barro, dando ao filme uma vantagem artística. Outro aspecto que aumenta a sensação do filme, é que gênero significa muito pouco. Quase não há personagens femininos, mas você realmente não percebe isso até depois de assisti-lo algumas vezes e mesmo assim ele tem pouco efeito sobre a maneira como você vê o filme. Devido a isso, há também nenhuma menção de uma família nuclear que seria realmente patética em um cenário como a idade do gelo.Em tudo, Ice Age é um grande filme e é a prova de quanto esforço foi colocado em animações em 3D antes de Shrek 2 e os Incríveis saíram.'\n",
    "test_string = \"Este é simplesmente o melhor filme que eu pude ter o prazer de asssitir em toda minha vida! Simplesmente incrível! Eu adorei a atuação do Jim Carrey e casaria com ele\"\n",
    "\n",
    "padded_sequence_to_predict = preprocess_to_predict(string=test_string,\n",
    "                                                word_vectors=raw_embedding,\n",
    "                                                tokenizer=t\n",
    "                                                )\n",
    "prediction = model.predict(padded_sequence_to_predict)[0] #predict always returns a list\n",
    "#batch_pred = model.predict(padded_docs)\n",
    "#predicted_label = prediction.argmax()\n",
    "prediction_score = prediction[0]\n",
    "\n",
    "\n",
    "#print(f'Predicted: {predicted_label}')\n",
    "print(f'Predicted: {prediction_score}')"
   ]
  },
  {
   "cell_type": "code",
   "execution_count": 48,
   "metadata": {},
   "outputs": [],
   "source": [
    "test_string = \"Ele é um é ele\"\n",
    "\n",
    "padded_sequence_to_predict = preprocess_to_predict(string=test_string,\n",
    "                                                word_vectors=raw_embedding,\n",
    "                                                tokenizer=t\n",
    "                                                )"
   ]
  },
  {
   "cell_type": "code",
   "execution_count": 49,
   "metadata": {},
   "outputs": [
    {
     "data": {
      "text/plain": [
       "(14, 200)"
      ]
     },
     "execution_count": 49,
     "metadata": {},
     "output_type": "execute_result"
    }
   ],
   "source": [
    "padded_sequence_to_predict.shape"
   ]
  },
  {
   "cell_type": "code",
   "execution_count": 54,
   "metadata": {},
   "outputs": [
    {
     "data": {
      "text/plain": [
       "(200,)"
      ]
     },
     "execution_count": 54,
     "metadata": {},
     "output_type": "execute_result"
    }
   ],
   "source": [
    "padded_docs[1].shape"
   ]
  },
  {
   "cell_type": "code",
   "execution_count": 56,
   "metadata": {},
   "outputs": [
    {
     "data": {
      "text/plain": [
       "(200,)"
      ]
     },
     "execution_count": 56,
     "metadata": {},
     "output_type": "execute_result"
    }
   ],
   "source": [
    "padded_sequence_to_predict[0].shape"
   ]
  },
  {
   "cell_type": "code",
   "execution_count": 35,
   "metadata": {},
   "outputs": [
    {
     "name": "stdout",
     "output_type": "stream",
     "text": [
      "24943\n",
      "49459\n",
      "0.5043167067672213\n"
     ]
    }
   ],
   "source": [
    "counter_pos = 0\n",
    "for pred in batch_pred:\n",
    "    if pred > 0.5:\n",
    "        counter_pos+=1\n",
    "\n",
    "print(counter_pos)\n",
    "print(len(batch_pred))\n",
    "print(counter_pos/len(batch_pred))"
   ]
  },
  {
   "cell_type": "code",
   "execution_count": null,
   "metadata": {},
   "outputs": [],
   "source": [
    "def plot_prediction_array(string_to_predict, predictions_array, true_label):\n",
    "    plt.grid(False)\n",
    "    plt.xticks([])\n",
    "    #plt.yticks([])\n",
    "    thisplot = plt.bar(range(2), predictions_array, color=\"#777777\")\n",
    "    plt.ylim([0, 1])\n",
    "    predicted_label = np.argmax(predictions_array)\n",
    "\n",
    "    if predicted_label == true_label:\n",
    "        color = 'blue'\n",
    "    else:\n",
    "        color = 'red'\n",
    "\n",
    "    plt.xlabel(string_to_predict[:100], color=color)    \n",
    "    thisplot[predicted_label].set_color('red')\n",
    "    thisplot[true_label].set_color('blue')"
   ]
  },
  {
   "cell_type": "code",
   "execution_count": null,
   "metadata": {},
   "outputs": [],
   "source": [
    "plot_prediction_array(test_string,prediction,1)"
   ]
  },
  {
   "cell_type": "code",
   "execution_count": null,
   "metadata": {},
   "outputs": [],
   "source": [
    "prediction"
   ]
  }
 ],
 "metadata": {
  "kernelspec": {
   "display_name": "Python 3",
   "language": "python",
   "name": "python3"
  },
  "language_info": {
   "codemirror_mode": {
    "name": "ipython",
    "version": 3
   },
   "file_extension": ".py",
   "mimetype": "text/x-python",
   "name": "python",
   "nbconvert_exporter": "python",
   "pygments_lexer": "ipython3",
   "version": "3.6.8"
  }
 },
 "nbformat": 4,
 "nbformat_minor": 4
}
